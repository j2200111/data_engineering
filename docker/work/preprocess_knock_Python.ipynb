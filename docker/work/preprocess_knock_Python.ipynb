{
 "cells": [
  {
   "cell_type": "markdown",
   "metadata": {},
   "source": [
    "# データサイエンス100本ノック（構造化データ加工編） - Python"
   ]
  },
  {
   "cell_type": "markdown",
   "metadata": {},
   "source": [
    "## はじめに\n",
    "- 初めに以下のセルを実行してください\n",
    "- 必要なライブラリのインポートとデータベース（PostgreSQL）からのデータ読み込みを行います\n",
    "- pandas等、利用が想定されるライブラリは以下セルでインポートしています\n",
    "- その他利用したいライブラリがあれば適宜インストールしてください（\"!pip install ライブラリ名\"でインストールも可能）\n",
    "- 処理は複数回に分けても構いません\n",
    "- 名前、住所等はダミーデータであり、実在するものではありません"
   ]
  },
  {
   "cell_type": "code",
   "execution_count": 3,
   "metadata": {},
   "outputs": [],
   "source": [
    "import os\n",
    "import pandas as pd\n",
    "import numpy as np\n",
    "from dateutil.relativedelta import relativedelta\n",
    "import math\n",
    "from sqlalchemy import create_engine\n",
    "from sklearn import preprocessing\n",
    "from sklearn.impute import SimpleImputer\n",
    "from sklearn.model_selection import train_test_split\n",
    "from sklearn.model_selection import TimeSeriesSplit\n",
    "from imblearn.under_sampling import RandomUnderSampler\n",
    "\n",
    "\n",
    "if 'PG_PORT' in os.environ:\n",
    "\n",
    "    host = 'db'\n",
    "    port = os.environ['PG_PORT']\n",
    "    database = os.environ['PG_DATABASE']\n",
    "    user = os.environ['PG_USER']\n",
    "    password = os.environ['PG_PASSWORD']\n",
    "    \n",
    "    # pd.read_sql用のコネクタ\n",
    "    conn = create_engine(f\"postgresql://{user}:{password}@{host}:{port}/{database}\")\n",
    "\n",
    "    df_customer = pd.read_sql(sql='select * from customer', con=conn)\n",
    "    df_category = pd.read_sql(sql='select * from category', con=conn)\n",
    "    df_product = pd.read_sql(sql='select * from product', con=conn)\n",
    "    df_receipt = pd.read_sql(sql='select * from receipt', con=conn)\n",
    "    df_store = pd.read_sql(sql='select * from store', con=conn)\n",
    "    df_geocode = pd.read_sql(sql='select * from geocode', con=conn)\n",
    "\n",
    "else:\n",
    "    if not os.path.exists('../data/'):\n",
    "        !git clone https://github.com/The-Japan-DataScientist-Society/100knocks-preprocess\n",
    "        os.chdir('100knocks-preprocess/docker/work/answer')\n",
    "\n",
    "    dtype = {\n",
    "        'customer_id': str,\n",
    "        'gender_cd': str,\n",
    "        'postal_cd': str,\n",
    "        'application_store_cd': str,\n",
    "        'status_cd': str,\n",
    "        'category_major_cd': str,\n",
    "        'category_medium_cd': str,\n",
    "        'category_small_cd': str,\n",
    "        'product_cd': str,\n",
    "        'store_cd': str,\n",
    "        'prefecture_cd': str,\n",
    "        'tel_no': str,\n",
    "        'postal_cd': str,\n",
    "        'street': str\n",
    "    }\n",
    "    \n",
    "    df_customer = pd.read_csv(\"../data/customer.csv\", dtype=dtype)\n",
    "    df_category = pd.read_csv(\"../data/category.csv\", dtype=dtype)\n",
    "    df_product = pd.read_csv(\"../data/product.csv\", dtype=dtype)\n",
    "    df_receipt = pd.read_csv(\"../data/receipt.csv\", dtype=dtype)\n",
    "    df_store = pd.read_csv(\"../data/store.csv\", dtype=dtype)\n",
    "    df_geocode = pd.read_csv(\"../data/geocode.csv\", dtype=dtype)\n"
   ]
  },
  {
   "cell_type": "markdown",
   "metadata": {},
   "source": [
    "# 演習問題"
   ]
  },
  {
   "cell_type": "markdown",
   "metadata": {},
   "source": [
    "---\n",
    "> P-001: レシート明細データ（df_receipt）から全項目の先頭10件を表示し、どのようなデータを保有しているか目視で確認せよ。"
   ]
  },
  {
   "cell_type": "code",
   "execution_count": 4,
   "metadata": {},
   "outputs": [
    {
     "data": {
      "text/html": [
       "<div>\n",
       "<style scoped>\n",
       "    .dataframe tbody tr th:only-of-type {\n",
       "        vertical-align: middle;\n",
       "    }\n",
       "\n",
       "    .dataframe tbody tr th {\n",
       "        vertical-align: top;\n",
       "    }\n",
       "\n",
       "    .dataframe thead th {\n",
       "        text-align: right;\n",
       "    }\n",
       "</style>\n",
       "<table border=\"1\" class=\"dataframe\">\n",
       "  <thead>\n",
       "    <tr style=\"text-align: right;\">\n",
       "      <th></th>\n",
       "      <th>sales_ymd</th>\n",
       "      <th>sales_epoch</th>\n",
       "      <th>store_cd</th>\n",
       "      <th>receipt_no</th>\n",
       "      <th>receipt_sub_no</th>\n",
       "      <th>customer_id</th>\n",
       "      <th>product_cd</th>\n",
       "      <th>quantity</th>\n",
       "      <th>amount</th>\n",
       "    </tr>\n",
       "  </thead>\n",
       "  <tbody>\n",
       "    <tr>\n",
       "      <th>0</th>\n",
       "      <td>20181103</td>\n",
       "      <td>1541203200</td>\n",
       "      <td>S14006</td>\n",
       "      <td>112</td>\n",
       "      <td>1</td>\n",
       "      <td>CS006214000001</td>\n",
       "      <td>P070305012</td>\n",
       "      <td>1</td>\n",
       "      <td>158</td>\n",
       "    </tr>\n",
       "    <tr>\n",
       "      <th>1</th>\n",
       "      <td>20181118</td>\n",
       "      <td>1542499200</td>\n",
       "      <td>S13008</td>\n",
       "      <td>1132</td>\n",
       "      <td>2</td>\n",
       "      <td>CS008415000097</td>\n",
       "      <td>P070701017</td>\n",
       "      <td>1</td>\n",
       "      <td>81</td>\n",
       "    </tr>\n",
       "    <tr>\n",
       "      <th>2</th>\n",
       "      <td>20170712</td>\n",
       "      <td>1499817600</td>\n",
       "      <td>S14028</td>\n",
       "      <td>1102</td>\n",
       "      <td>1</td>\n",
       "      <td>CS028414000014</td>\n",
       "      <td>P060101005</td>\n",
       "      <td>1</td>\n",
       "      <td>170</td>\n",
       "    </tr>\n",
       "    <tr>\n",
       "      <th>3</th>\n",
       "      <td>20190205</td>\n",
       "      <td>1549324800</td>\n",
       "      <td>S14042</td>\n",
       "      <td>1132</td>\n",
       "      <td>1</td>\n",
       "      <td>ZZ000000000000</td>\n",
       "      <td>P050301001</td>\n",
       "      <td>1</td>\n",
       "      <td>25</td>\n",
       "    </tr>\n",
       "    <tr>\n",
       "      <th>4</th>\n",
       "      <td>20180821</td>\n",
       "      <td>1534809600</td>\n",
       "      <td>S14025</td>\n",
       "      <td>1102</td>\n",
       "      <td>2</td>\n",
       "      <td>CS025415000050</td>\n",
       "      <td>P060102007</td>\n",
       "      <td>1</td>\n",
       "      <td>90</td>\n",
       "    </tr>\n",
       "    <tr>\n",
       "      <th>5</th>\n",
       "      <td>20190605</td>\n",
       "      <td>1559692800</td>\n",
       "      <td>S13003</td>\n",
       "      <td>1112</td>\n",
       "      <td>1</td>\n",
       "      <td>CS003515000195</td>\n",
       "      <td>P050102002</td>\n",
       "      <td>1</td>\n",
       "      <td>138</td>\n",
       "    </tr>\n",
       "    <tr>\n",
       "      <th>6</th>\n",
       "      <td>20181205</td>\n",
       "      <td>1543968000</td>\n",
       "      <td>S14024</td>\n",
       "      <td>1102</td>\n",
       "      <td>2</td>\n",
       "      <td>CS024514000042</td>\n",
       "      <td>P080101005</td>\n",
       "      <td>1</td>\n",
       "      <td>30</td>\n",
       "    </tr>\n",
       "    <tr>\n",
       "      <th>7</th>\n",
       "      <td>20190922</td>\n",
       "      <td>1569110400</td>\n",
       "      <td>S14040</td>\n",
       "      <td>1102</td>\n",
       "      <td>1</td>\n",
       "      <td>CS040415000178</td>\n",
       "      <td>P070501004</td>\n",
       "      <td>1</td>\n",
       "      <td>128</td>\n",
       "    </tr>\n",
       "    <tr>\n",
       "      <th>8</th>\n",
       "      <td>20170504</td>\n",
       "      <td>1493856000</td>\n",
       "      <td>S13020</td>\n",
       "      <td>1112</td>\n",
       "      <td>2</td>\n",
       "      <td>ZZ000000000000</td>\n",
       "      <td>P071302010</td>\n",
       "      <td>1</td>\n",
       "      <td>770</td>\n",
       "    </tr>\n",
       "    <tr>\n",
       "      <th>9</th>\n",
       "      <td>20191010</td>\n",
       "      <td>1570665600</td>\n",
       "      <td>S14027</td>\n",
       "      <td>1102</td>\n",
       "      <td>1</td>\n",
       "      <td>CS027514000015</td>\n",
       "      <td>P071101003</td>\n",
       "      <td>1</td>\n",
       "      <td>680</td>\n",
       "    </tr>\n",
       "  </tbody>\n",
       "</table>\n",
       "</div>"
      ],
      "text/plain": [
       "   sales_ymd  sales_epoch store_cd  receipt_no  receipt_sub_no  \\\n",
       "0   20181103   1541203200   S14006         112               1   \n",
       "1   20181118   1542499200   S13008        1132               2   \n",
       "2   20170712   1499817600   S14028        1102               1   \n",
       "3   20190205   1549324800   S14042        1132               1   \n",
       "4   20180821   1534809600   S14025        1102               2   \n",
       "5   20190605   1559692800   S13003        1112               1   \n",
       "6   20181205   1543968000   S14024        1102               2   \n",
       "7   20190922   1569110400   S14040        1102               1   \n",
       "8   20170504   1493856000   S13020        1112               2   \n",
       "9   20191010   1570665600   S14027        1102               1   \n",
       "\n",
       "      customer_id  product_cd  quantity  amount  \n",
       "0  CS006214000001  P070305012         1     158  \n",
       "1  CS008415000097  P070701017         1      81  \n",
       "2  CS028414000014  P060101005         1     170  \n",
       "3  ZZ000000000000  P050301001         1      25  \n",
       "4  CS025415000050  P060102007         1      90  \n",
       "5  CS003515000195  P050102002         1     138  \n",
       "6  CS024514000042  P080101005         1      30  \n",
       "7  CS040415000178  P070501004         1     128  \n",
       "8  ZZ000000000000  P071302010         1     770  \n",
       "9  CS027514000015  P071101003         1     680  "
      ]
     },
     "execution_count": 4,
     "metadata": {},
     "output_type": "execute_result"
    }
   ],
   "source": [
    "df_receipt.head(10)"
   ]
  },
  {
   "cell_type": "markdown",
   "metadata": {},
   "source": [
    "---\n",
    "> P-002: レシート明細データ（df_receipt）から売上年月日（sales_ymd）、顧客ID（customer_id）、商品コード（product_cd）、売上金額（amount）の順に列を指定し、10件表示せよ。"
   ]
  },
  {
   "cell_type": "code",
   "execution_count": 7,
   "metadata": {},
   "outputs": [
    {
     "name": "stdout",
     "output_type": "stream",
     "text": [
      "   sales_ymd     customer_id  product_cd  amount\n",
      "0   20181103  CS006214000001  P070305012     158\n",
      "1   20181118  CS008415000097  P070701017      81\n",
      "2   20170712  CS028414000014  P060101005     170\n",
      "3   20190205  ZZ000000000000  P050301001      25\n",
      "4   20180821  CS025415000050  P060102007      90\n",
      "5   20190605  CS003515000195  P050102002     138\n",
      "6   20181205  CS024514000042  P080101005      30\n",
      "7   20190922  CS040415000178  P070501004     128\n",
      "8   20170504  ZZ000000000000  P071302010     770\n",
      "9   20191010  CS027514000015  P071101003     680\n"
     ]
    }
   ],
   "source": [
    "new = df_receipt[['sales_ymd', 'customer_id', 'product_cd', 'amount']]\n",
    "print(new.head(10))"
   ]
  },
  {
   "cell_type": "markdown",
   "metadata": {},
   "source": [
    "---\n",
    "> P-003: レシート明細データ（df_receipt）から売上年月日（sales_ymd）、顧客ID（customer_id）、商品コード（product_cd）、売上金額（amount）の順に列を指定し、10件表示せよ。ただし、sales_ymdをsales_dateに項目名を変更して抽出すること。"
   ]
  },
  {
   "cell_type": "code",
   "execution_count": 8,
   "metadata": {},
   "outputs": [
    {
     "name": "stdout",
     "output_type": "stream",
     "text": [
      "   sales_date     customer_id  product_cd  amount\n",
      "0    20181103  CS006214000001  P070305012     158\n",
      "1    20181118  CS008415000097  P070701017      81\n",
      "2    20170712  CS028414000014  P060101005     170\n",
      "3    20190205  ZZ000000000000  P050301001      25\n",
      "4    20180821  CS025415000050  P060102007      90\n",
      "5    20190605  CS003515000195  P050102002     138\n",
      "6    20181205  CS024514000042  P080101005      30\n",
      "7    20190922  CS040415000178  P070501004     128\n",
      "8    20170504  ZZ000000000000  P071302010     770\n",
      "9    20191010  CS027514000015  P071101003     680\n"
     ]
    }
   ],
   "source": [
    "new = df_receipt.rename(columns={'sales_ymd': 'sales_date'})[['sales_date', 'customer_id', 'product_cd', 'amount']]\n",
    "print(new.head(10))"
   ]
  },
  {
   "cell_type": "markdown",
   "metadata": {},
   "source": [
    "---\n",
    "> P-004: レシート明細データ（df_receipt）から売上日（sales_ymd）、顧客ID（customer_id）、商品コード（product_cd）、売上金額（amount）の順に列を指定し、以下の条件を満たすデータを抽出せよ。\n",
    "> - 顧客ID（customer_id）が\"CS018205000001\""
   ]
  },
  {
   "cell_type": "code",
   "execution_count": 9,
   "metadata": {},
   "outputs": [
    {
     "name": "stdout",
     "output_type": "stream",
     "text": [
      "       sales_ymd     customer_id  product_cd  amount\n",
      "36      20180911  CS018205000001  P071401012    2200\n",
      "9843    20180414  CS018205000001  P060104007     600\n",
      "21110   20170614  CS018205000001  P050206001     990\n",
      "27673   20170614  CS018205000001  P060702015     108\n",
      "27840   20190216  CS018205000001  P071005024     102\n",
      "28757   20180414  CS018205000001  P071101002     278\n",
      "39256   20190226  CS018205000001  P070902035     168\n",
      "58121   20190924  CS018205000001  P060805001     495\n",
      "68117   20190226  CS018205000001  P071401020    2200\n",
      "72254   20180911  CS018205000001  P071401005    1100\n",
      "88508   20190216  CS018205000001  P040101002     218\n",
      "91525   20190924  CS018205000001  P091503001     280\n"
     ]
    }
   ],
   "source": [
    "select = df_receipt[df_receipt['customer_id'] == 'CS018205000001']\n",
    "new = select[['sales_ymd', 'customer_id', 'product_cd', 'amount']]\n",
    "print(new)"
   ]
  },
  {
   "cell_type": "markdown",
   "metadata": {},
   "source": [
    "---\n",
    "> P-005: レシート明細データ（df_receipt）から売上日（sales_ymd）、顧客ID（customer_id）、商品コード（product_cd）、売上金額（amount）の順に列を指定し、以下の全ての条件を満たすデータを抽出せよ。\n",
    "> - 顧客ID（customer_id）が\"CS018205000001\"\n",
    "> - 売上金額（amount）が1,000以上"
   ]
  },
  {
   "cell_type": "code",
   "execution_count": 19,
   "metadata": {},
   "outputs": [
    {
     "name": "stdout",
     "output_type": "stream",
     "text": [
      "       sales_ymd     customer_id  product_cd  amount\n",
      "36      20180911  CS018205000001  P071401012    2200\n",
      "68117   20190226  CS018205000001  P071401020    2200\n",
      "72254   20180911  CS018205000001  P071401005    1100\n"
     ]
    }
   ],
   "source": [
    "select = df_receipt[(df_receipt['customer_id'] == 'CS018205000001') & (df_receipt['amount'] >= 1000)]\n",
    "new = select[['sales_ymd', 'customer_id', 'product_cd', 'amount']]\n",
    "print(new)"
   ]
  },
  {
   "cell_type": "markdown",
   "metadata": {},
   "source": [
    "---\n",
    "> P-006: レシート明細データ（df_receipt）から売上日（sales_ymd）、顧客ID（customer_id）、商品コード（product_cd）、売上数量（quantity）、売上金額（amount）の順に列を指定し、以下の全ての条件を満たすデータを抽出せよ。\n",
    "> - 顧客ID（customer_id）が\"CS018205000001\"\n",
    "> - 売上金額（amount）が1,000以上または売上数量（quantity）が5以上"
   ]
  },
  {
   "cell_type": "code",
   "execution_count": 20,
   "metadata": {},
   "outputs": [
    {
     "name": "stdout",
     "output_type": "stream",
     "text": [
      "       sales_ymd     customer_id  product_cd  amount\n",
      "36      20180911  CS018205000001  P071401012    2200\n",
      "9843    20180414  CS018205000001  P060104007     600\n",
      "21110   20170614  CS018205000001  P050206001     990\n",
      "47082   20190610  CS037414000080  P090401002     640\n",
      "68117   20190226  CS018205000001  P071401020    2200\n",
      "72254   20180911  CS018205000001  P071401005    1100\n"
     ]
    }
   ],
   "source": [
    "select = df_receipt[(df_receipt['customer_id'] == 'CS018205000001') & (df_receipt['amount'] >= 1000)| (df_receipt['quantity'] >= 5)]\n",
    "new = select[['sales_ymd', 'customer_id', 'product_cd', 'amount']]\n",
    "print(new)"
   ]
  },
  {
   "cell_type": "markdown",
   "metadata": {},
   "source": [
    "---\n",
    "> P-007: レシート明細データ（df_receipt）から売上日（sales_ymd）、顧客ID（customer_id）、商品コード（product_cd）、売上金額（amount）の順に列を指定し、以下の全ての条件を満たすデータを抽出せよ。\n",
    "> - 顧客ID（customer_id）が\"CS018205000001\"\n",
    "> - 売上金額（amount）が1,000以上2,000以下"
   ]
  },
  {
   "cell_type": "code",
   "execution_count": 21,
   "metadata": {},
   "outputs": [
    {
     "name": "stdout",
     "output_type": "stream",
     "text": [
      "       sales_ymd     customer_id  product_cd  amount\n",
      "72254   20180911  CS018205000001  P071401005    1100\n"
     ]
    }
   ],
   "source": [
    "select = df_receipt[(df_receipt['customer_id'] == 'CS018205000001') & (df_receipt['amount'] >= 1000)&(df_receipt['amount'] <= 2000)]\n",
    "new = select[['sales_ymd', 'customer_id', 'product_cd', 'amount']]\n",
    "print(new)"
   ]
  },
  {
   "cell_type": "markdown",
   "metadata": {},
   "source": [
    "---\n",
    "> P-008: レシート明細データ（df_receipt）から売上日（sales_ymd）、顧客ID（customer_id）、商品コード（product_cd）、売上金額（amount）の順に列を指定し、以下の全ての条件を満たすデータを抽出せよ。\n",
    "> - 顧客ID（customer_id）が\"CS018205000001\"\n",
    "> - 商品コード（product_cd）が\"P071401019\"以外"
   ]
  },
  {
   "cell_type": "code",
   "execution_count": 22,
   "metadata": {},
   "outputs": [
    {
     "name": "stdout",
     "output_type": "stream",
     "text": [
      "       sales_ymd     customer_id  product_cd  amount\n",
      "36      20180911  CS018205000001  P071401012    2200\n",
      "68117   20190226  CS018205000001  P071401020    2200\n",
      "72254   20180911  CS018205000001  P071401005    1100\n"
     ]
    }
   ],
   "source": [
    "select = df_receipt[\n",
    "    (df_receipt['customer_id'] == 'CS018205000001') &\n",
    "    (df_receipt['amount'] >= 1000) &\n",
    "    (df_receipt['product_cd'] != 'P071401019')\n",
    "]\n",
    "new = select[['sales_ymd', 'customer_id', 'product_cd', 'amount']]\n",
    "print(new)"
   ]
  },
  {
   "cell_type": "markdown",
   "metadata": {},
   "source": [
    "---\n",
    "> P-009: 以下の処理において、出力結果を変えずにORをANDに書き換えよ。\n",
    "> \n",
    "> `df_store.query('not(prefecture_cd == \"13\" | floor_area > 900)')`"
   ]
  },
  {
   "cell_type": "code",
   "execution_count": 23,
   "metadata": {},
   "outputs": [
    {
     "data": {
      "text/html": [
       "<div>\n",
       "<style scoped>\n",
       "    .dataframe tbody tr th:only-of-type {\n",
       "        vertical-align: middle;\n",
       "    }\n",
       "\n",
       "    .dataframe tbody tr th {\n",
       "        vertical-align: top;\n",
       "    }\n",
       "\n",
       "    .dataframe thead th {\n",
       "        text-align: right;\n",
       "    }\n",
       "</style>\n",
       "<table border=\"1\" class=\"dataframe\">\n",
       "  <thead>\n",
       "    <tr style=\"text-align: right;\">\n",
       "      <th></th>\n",
       "      <th>store_cd</th>\n",
       "      <th>store_name</th>\n",
       "      <th>prefecture_cd</th>\n",
       "      <th>prefecture</th>\n",
       "      <th>address</th>\n",
       "      <th>address_kana</th>\n",
       "      <th>tel_no</th>\n",
       "      <th>longitude</th>\n",
       "      <th>latitude</th>\n",
       "      <th>floor_area</th>\n",
       "    </tr>\n",
       "  </thead>\n",
       "  <tbody>\n",
       "    <tr>\n",
       "      <th>18</th>\n",
       "      <td>S14046</td>\n",
       "      <td>北山田店</td>\n",
       "      <td>14</td>\n",
       "      <td>神奈川県</td>\n",
       "      <td>神奈川県横浜市都筑区北山田一丁目</td>\n",
       "      <td>カナガワケンヨコハマシツヅキクキタヤマタイッチョウメ</td>\n",
       "      <td>045-123-4049</td>\n",
       "      <td>139.5916</td>\n",
       "      <td>35.56189</td>\n",
       "      <td>831.0</td>\n",
       "    </tr>\n",
       "    <tr>\n",
       "      <th>20</th>\n",
       "      <td>S14011</td>\n",
       "      <td>日吉本町店</td>\n",
       "      <td>14</td>\n",
       "      <td>神奈川県</td>\n",
       "      <td>神奈川県横浜市港北区日吉本町四丁目</td>\n",
       "      <td>カナガワケンヨコハマシコウホククヒヨシホンチョウヨンチョウメ</td>\n",
       "      <td>045-123-4033</td>\n",
       "      <td>139.6316</td>\n",
       "      <td>35.54655</td>\n",
       "      <td>890.0</td>\n",
       "    </tr>\n",
       "    <tr>\n",
       "      <th>38</th>\n",
       "      <td>S12013</td>\n",
       "      <td>習志野店</td>\n",
       "      <td>12</td>\n",
       "      <td>千葉県</td>\n",
       "      <td>千葉県習志野市芝園一丁目</td>\n",
       "      <td>チバケンナラシノシシバゾノイッチョウメ</td>\n",
       "      <td>047-123-4002</td>\n",
       "      <td>140.0220</td>\n",
       "      <td>35.66122</td>\n",
       "      <td>808.0</td>\n",
       "    </tr>\n",
       "  </tbody>\n",
       "</table>\n",
       "</div>"
      ],
      "text/plain": [
       "   store_cd store_name prefecture_cd prefecture            address  \\\n",
       "18   S14046       北山田店            14       神奈川県   神奈川県横浜市都筑区北山田一丁目   \n",
       "20   S14011      日吉本町店            14       神奈川県  神奈川県横浜市港北区日吉本町四丁目   \n",
       "38   S12013       習志野店            12        千葉県       千葉県習志野市芝園一丁目   \n",
       "\n",
       "                      address_kana        tel_no  longitude  latitude  \\\n",
       "18      カナガワケンヨコハマシツヅキクキタヤマタイッチョウメ  045-123-4049   139.5916  35.56189   \n",
       "20  カナガワケンヨコハマシコウホククヒヨシホンチョウヨンチョウメ  045-123-4033   139.6316  35.54655   \n",
       "38             チバケンナラシノシシバゾノイッチョウメ  047-123-4002   140.0220  35.66122   \n",
       "\n",
       "    floor_area  \n",
       "18       831.0  \n",
       "20       890.0  \n",
       "38       808.0  "
      ]
     },
     "execution_count": 23,
     "metadata": {},
     "output_type": "execute_result"
    }
   ],
   "source": [
    "df_store.query('prefecture_cd != \"13\" & floor_area <= 900')\n"
   ]
  },
  {
   "cell_type": "markdown",
   "metadata": {},
   "source": [
    "---\n",
    "> P-010: 店舗データ（df_store）から、店舗コード（store_cd）が\"S14\"で始まるものだけ全項目抽出し、10件表示せよ。"
   ]
  },
  {
   "cell_type": "code",
   "execution_count": 25,
   "metadata": {},
   "outputs": [
    {
     "name": "stdout",
     "output_type": "stream",
     "text": [
      "   store_cd store_name prefecture_cd prefecture              address  \\\n",
      "2    S14010        菊名店            14       神奈川県      神奈川県横浜市港北区菊名一丁目   \n",
      "3    S14033       阿久和店            14       神奈川県    神奈川県横浜市瀬谷区阿久和西一丁目   \n",
      "4    S14036     相模原中央店            14       神奈川県        神奈川県相模原市中央二丁目   \n",
      "7    S14040       長津田店            14       神奈川県  神奈川県横浜市緑区長津田みなみ台五丁目   \n",
      "9    S14050      阿久和西店            14       神奈川県    神奈川県横浜市瀬谷区阿久和西一丁目   \n",
      "12   S14028       二ツ橋店            14       神奈川県       神奈川県横浜市瀬谷区二ツ橋町   \n",
      "16   S14012      本牧和田店            14       神奈川県        神奈川県横浜市中区本牧和田   \n",
      "18   S14046       北山田店            14       神奈川県     神奈川県横浜市都筑区北山田一丁目   \n",
      "19   S14022        逗子店            14       神奈川県         神奈川県逗子市逗子一丁目   \n",
      "20   S14011      日吉本町店            14       神奈川県    神奈川県横浜市港北区日吉本町四丁目   \n",
      "\n",
      "                      address_kana        tel_no  longitude  latitude  \\\n",
      "2        カナガワケンヨコハマシコウホククキクナイッチョウメ  045-123-4032   139.6326  35.50049   \n",
      "3        カナガワケンヨコハマシセヤクアクワニシイッチョウメ  045-123-4043   139.4961  35.45918   \n",
      "4           カナガワケンサガミハラシチュウオウニチョウメ  042-123-4045   139.3716  35.57327   \n",
      "7    カナガワケンヨコハマシミドリクナガツタミナミダイゴチョウメ  045-123-4046   139.4994  35.52398   \n",
      "9        カナガワケンヨコハマシセヤクアクワニシイッチョウメ  045-123-4053   139.4961  35.45918   \n",
      "12          カナガワケンヨコハマシセヤクフタツバシチョウ  045-123-4042   139.4963  35.46304   \n",
      "16            カナガワケンヨコハマシナカクホンモクワダ  045-123-4034   139.6582  35.42156   \n",
      "18      カナガワケンヨコハマシツヅキクキタヤマタイッチョウメ  045-123-4049   139.5916  35.56189   \n",
      "19               カナガワケンズシシズシイッチョウメ  046-123-4036   139.5789  35.29642   \n",
      "20  カナガワケンヨコハマシコウホククヒヨシホンチョウヨンチョウメ  045-123-4033   139.6316  35.54655   \n",
      "\n",
      "    floor_area  \n",
      "2       1732.0  \n",
      "3       1495.0  \n",
      "4       1679.0  \n",
      "7       1548.0  \n",
      "9       1830.0  \n",
      "12      1574.0  \n",
      "16      1341.0  \n",
      "18       831.0  \n",
      "19      1838.0  \n",
      "20       890.0  \n"
     ]
    }
   ],
   "source": [
    "select = df_store[df_store['store_cd'].str.startswith('S14')]\n",
    "print(select.head(10))\n"
   ]
  },
  {
   "cell_type": "markdown",
   "metadata": {},
   "source": [
    "---\n",
    "> P-011: 顧客データ（df_customer）から顧客ID（customer_id）の末尾が1のものだけ全項目抽出し、10件表示せよ。"
   ]
  },
  {
   "cell_type": "code",
   "execution_count": 26,
   "metadata": {},
   "outputs": [
    {
     "name": "stdout",
     "output_type": "stream",
     "text": [
      "   store_cd store_name prefecture_cd prefecture            address  \\\n",
      "5    S13051      板橋大原店            13        東京都          東京都板橋区大原町   \n",
      "13   S13031        初台店            13        東京都        東京都渋谷区初台二丁目   \n",
      "15   S13001       仲六郷店            13        東京都       東京都大田区仲六郷二丁目   \n",
      "20   S14011      日吉本町店            14       神奈川県  神奈川県横浜市港北区日吉本町四丁目   \n",
      "29   S13041       八王子店            13        東京都          東京都八王子市大塚   \n",
      "36   S14021       伊勢原店            14       神奈川県     神奈川県伊勢原市伊勢原四丁目   \n",
      "\n",
      "                      address_kana        tel_no  longitude  latitude  \\\n",
      "5               トウキョウトイタバシクオオハラチョウ  03-0123-4029   139.6980  35.76788   \n",
      "13             トウキョウトシブヤクハツダイニチョウメ  03-0123-4020   139.6862  35.67616   \n",
      "15           トウキョウトオオタクナカロクゴウニチョウメ  03-1234-4007   139.7132  35.55135   \n",
      "20  カナガワケンヨコハマシコウホククヒヨシホンチョウヨンチョウメ  045-123-4033   139.6316  35.54655   \n",
      "29                トウキョウトハチオウジシオオツカ  042-123-4026   139.4235  35.63787   \n",
      "36           カナガワケンイセハラシイセハラヨンチョウメ  046-123-4035   139.3129  35.40169   \n",
      "\n",
      "    floor_area  \n",
      "5       1045.0  \n",
      "13       986.0  \n",
      "15      1796.0  \n",
      "20       890.0  \n",
      "29       810.0  \n",
      "36       962.0  \n"
     ]
    }
   ],
   "source": [
    "select = df_store[df_store['store_cd'].str.endswith('1')]\n",
    "print(select.head(10))"
   ]
  },
  {
   "cell_type": "markdown",
   "metadata": {},
   "source": [
    "---\n",
    "> P-012: 店舗データ（df_store）から、住所 (address) に\"横浜市\"が含まれるものだけ全項目表示せよ。"
   ]
  },
  {
   "cell_type": "code",
   "execution_count": 28,
   "metadata": {},
   "outputs": [
    {
     "name": "stdout",
     "output_type": "stream",
     "text": [
      "   store_cd store_name prefecture_cd prefecture              address  \\\n",
      "2    S14010        菊名店            14       神奈川県      神奈川県横浜市港北区菊名一丁目   \n",
      "3    S14033       阿久和店            14       神奈川県    神奈川県横浜市瀬谷区阿久和西一丁目   \n",
      "7    S14040       長津田店            14       神奈川県  神奈川県横浜市緑区長津田みなみ台五丁目   \n",
      "9    S14050      阿久和西店            14       神奈川県    神奈川県横浜市瀬谷区阿久和西一丁目   \n",
      "12   S14028       二ツ橋店            14       神奈川県       神奈川県横浜市瀬谷区二ツ橋町   \n",
      "16   S14012      本牧和田店            14       神奈川県        神奈川県横浜市中区本牧和田   \n",
      "18   S14046       北山田店            14       神奈川県     神奈川県横浜市都筑区北山田一丁目   \n",
      "20   S14011      日吉本町店            14       神奈川県    神奈川県横浜市港北区日吉本町四丁目   \n",
      "26   S14048      中川中央店            14       神奈川県    神奈川県横浜市都筑区中川中央二丁目   \n",
      "40   S14042       新山下店            14       神奈川県      神奈川県横浜市中区新山下二丁目   \n",
      "\n",
      "                      address_kana        tel_no  longitude  latitude  \\\n",
      "2        カナガワケンヨコハマシコウホククキクナイッチョウメ  045-123-4032   139.6326  35.50049   \n",
      "3        カナガワケンヨコハマシセヤクアクワニシイッチョウメ  045-123-4043   139.4961  35.45918   \n",
      "7    カナガワケンヨコハマシミドリクナガツタミナミダイゴチョウメ  045-123-4046   139.4994  35.52398   \n",
      "9        カナガワケンヨコハマシセヤクアクワニシイッチョウメ  045-123-4053   139.4961  35.45918   \n",
      "12          カナガワケンヨコハマシセヤクフタツバシチョウ  045-123-4042   139.4963  35.46304   \n",
      "16            カナガワケンヨコハマシナカクホンモクワダ  045-123-4034   139.6582  35.42156   \n",
      "18      カナガワケンヨコハマシツヅキクキタヤマタイッチョウメ  045-123-4049   139.5916  35.56189   \n",
      "20  カナガワケンヨコハマシコウホククヒヨシホンチョウヨンチョウメ  045-123-4033   139.6316  35.54655   \n",
      "26   カナガワケンヨコハマシツヅキクナカガワチュウオウニチョウメ  045-123-4051   139.5758  35.54912   \n",
      "40       カナガワケンヨコハマシナカクシンヤマシタニチョウメ  045-123-4047   139.6593  35.43894   \n",
      "\n",
      "    floor_area  \n",
      "2       1732.0  \n",
      "3       1495.0  \n",
      "7       1548.0  \n",
      "9       1830.0  \n",
      "12      1574.0  \n",
      "16      1341.0  \n",
      "18       831.0  \n",
      "20       890.0  \n",
      "26      1657.0  \n",
      "40      1044.0  \n"
     ]
    }
   ],
   "source": [
    "select = df_store[df_store['address'].str.contains('横浜市')]\n",
    "print(select.head(10))"
   ]
  },
  {
   "cell_type": "markdown",
   "metadata": {},
   "source": [
    "---\n",
    "> P-013: 顧客データ（df_customer）から、ステータスコード（status_cd）の先頭がアルファベットのA〜Fで始まるデータを全項目抽出し、10件表示せよ。"
   ]
  },
  {
   "cell_type": "code",
   "execution_count": 30,
   "metadata": {},
   "outputs": [
    {
     "name": "stdout",
     "output_type": "stream",
     "text": [
      "       customer_id customer_name gender_cd gender   birth_day  age postal_cd  \\\n",
      "2   CS031415000172       宇多田 貴美子         1     女性  1976-10-04   42  151-0053   \n",
      "6   CS015414000103         奥野 陽子         1     女性  1977-08-09   41  136-0073   \n",
      "12  CS011215000048         芦田 沙耶         1     女性  1992-02-01   27  223-0062   \n",
      "15  CS029415000023         梅田 里穂         1     女性  1976-01-17   43  279-0043   \n",
      "21  CS035415000029         寺沢 真希         9     不明  1977-09-27   41  158-0096   \n",
      "32  CS031415000106        宇野 由美子         1     女性  1970-02-26   49  151-0053   \n",
      "33  CS029215000025         石倉 美帆         1     女性  1993-09-28   25  279-0022   \n",
      "40  CS033605000005         猪股 雄太         0     男性  1955-12-05   63  246-0031   \n",
      "44  CS033415000229        板垣 菜々美         1     女性  1977-11-07   41  246-0021   \n",
      "53  CS008415000145         黒谷 麻緒         1     女性  1977-06-27   41  157-0067   \n",
      "\n",
      "                     address application_store_cd application_date  \\\n",
      "2        東京都渋谷区代々木**********               S13031         20150529   \n",
      "6         東京都江東区北砂**********               S13015         20150722   \n",
      "12  神奈川県横浜市港北区日吉本町**********               S14011         20150228   \n",
      "15       千葉県浦安市富士見**********               S12029         20150610   \n",
      "21      東京都世田谷区玉川台**********               S13035         20141220   \n",
      "32       東京都渋谷区代々木**********               S13031         20150201   \n",
      "33        千葉県浦安市今川**********               S12029         20150708   \n",
      "40    神奈川県横浜市瀬谷区瀬谷**********               S14033         20150425   \n",
      "44  神奈川県横浜市瀬谷区二ツ橋町**********               S14033         20150712   \n",
      "53      東京都世田谷区喜多見**********               S13008         20150829   \n",
      "\n",
      "       status_cd  \n",
      "2   D-20100325-C  \n",
      "6   B-20100609-B  \n",
      "12  C-20100421-9  \n",
      "15  D-20100918-E  \n",
      "21  F-20101029-F  \n",
      "32  F-20100511-E  \n",
      "33  B-20100820-C  \n",
      "40  F-20100917-E  \n",
      "44  F-20100326-E  \n",
      "53  F-20100622-F  \n"
     ]
    }
   ],
   "source": [
    "select = df_customer[df_customer['status_cd'].str.match(r'^[A-F]')]\n",
    "print(select.head(10))"
   ]
  },
  {
   "cell_type": "markdown",
   "metadata": {},
   "source": [
    "---\n",
    "> P-014: 顧客データ（df_customer）から、ステータスコード（status_cd）の末尾が数字の1〜9で終わるデータを全項目抽出し、10件表示せよ。"
   ]
  },
  {
   "cell_type": "code",
   "execution_count": 33,
   "metadata": {},
   "outputs": [
    {
     "name": "stdout",
     "output_type": "stream",
     "text": [
      "       customer_id customer_name gender_cd gender   birth_day  age postal_cd  \\\n",
      "4   CS001215000145         田崎 美紀         1     女性  1995-03-29   24  144-0055   \n",
      "9   CS033513000180          安斎 遥         1     女性  1962-07-11   56  241-0823   \n",
      "12  CS011215000048         芦田 沙耶         1     女性  1992-02-01   27  223-0062   \n",
      "14  CS040412000191         川井 郁恵         1     女性  1977-01-05   42  226-0021   \n",
      "16  CS009315000023         皆川 文世         1     女性  1980-04-15   38  154-0012   \n",
      "22  CS015315000033        福士 璃奈子         1     女性  1983-03-17   36  135-0043   \n",
      "23  CS023513000066         神戸 そら         1     女性  1961-12-17   57  210-0005   \n",
      "24  CS035513000134         市川 美帆         1     女性  1960-03-27   59  156-0053   \n",
      "27  CS001515000263         高松 夏空         1     女性  1962-11-09   56  144-0051   \n",
      "28  CS040314000027       鶴田 きみまろ         9     不明  1986-03-26   33  226-0027   \n",
      "\n",
      "                     address application_store_cd application_date  \\\n",
      "4        東京都大田区仲六郷**********               S13001         20170605   \n",
      "9     神奈川県横浜市旭区善部町**********               S14033         20150728   \n",
      "12  神奈川県横浜市港北区日吉本町**********               S14011         20150228   \n",
      "14   神奈川県横浜市緑区北八朔町**********               S14040         20151101   \n",
      "16       東京都世田谷区駒沢**********               S13009         20150319   \n",
      "22        東京都江東区塩浜**********               S13015         20141024   \n",
      "23   神奈川県川崎市川崎区東田町**********               S14023         20150915   \n",
      "24        東京都世田谷区桜**********               S13035         20150227   \n",
      "27       東京都大田区西蒲田**********               S13001         20160812   \n",
      "28    神奈川県横浜市緑区長津田**********               S14040         20150122   \n",
      "\n",
      "       status_cd  \n",
      "4   6-20090929-2  \n",
      "9   6-20080506-5  \n",
      "12  C-20100421-9  \n",
      "14  1-20091025-4  \n",
      "16  5-20080322-1  \n",
      "22  4-20080219-3  \n",
      "23  5-20100524-9  \n",
      "24  8-20100711-9  \n",
      "27  1-20100804-1  \n",
      "28  2-20080426-4  \n"
     ]
    }
   ],
   "source": [
    "select = df_customer[df_customer['status_cd'].str.contains(r'[1-9]$')]\n",
    "print(select.head(10))\n"
   ]
  },
  {
   "cell_type": "markdown",
   "metadata": {},
   "source": [
    "---\n",
    "> P-015: 顧客データ（df_customer）から、ステータスコード（status_cd）の先頭がアルファベットのA〜Fで始まり、末尾が数字の1〜9で終わるデータを全項目抽出し、10件表示せよ。"
   ]
  },
  {
   "cell_type": "code",
   "execution_count": 34,
   "metadata": {},
   "outputs": [
    {
     "name": "stdout",
     "output_type": "stream",
     "text": [
      "        customer_id customer_name gender_cd gender   birth_day  age postal_cd  \\\n",
      "12   CS011215000048         芦田 沙耶         1     女性  1992-02-01   27  223-0062   \n",
      "68   CS022513000105        島村 貴美子         1     女性  1962-03-12   57  249-0002   \n",
      "71   CS001515000096         水野 陽子         9     不明  1960-11-29   58  144-0053   \n",
      "122  CS013615000053         西脇 季衣         1     女性  1953-10-18   65  261-0026   \n",
      "144  CS020412000161          小宮 薫         1     女性  1974-05-21   44  174-0042   \n",
      "178  CS001215000097        竹中 あさみ         1     女性  1990-07-25   28  146-0095   \n",
      "252  CS035212000007        内村 恵梨香         1     女性  1990-12-04   28  152-0023   \n",
      "259  CS002515000386         野田 コウ         1     女性  1963-05-30   55  185-0013   \n",
      "293  CS001615000372        稲垣 寿々花         1     女性  1956-10-29   62  144-0035   \n",
      "297  CS032512000121         松井 知世         1     女性  1962-09-04   56  210-0011   \n",
      "\n",
      "                      address application_store_cd application_date  \\\n",
      "12   神奈川県横浜市港北区日吉本町**********               S14011         20150228   \n",
      "68       神奈川県逗子市山の根**********               S14022         20150320   \n",
      "71       東京都大田区蒲田本町**********               S13001         20150614   \n",
      "122    千葉県千葉市美浜区幕張西**********               S12013         20150128   \n",
      "144       東京都板橋区東坂下**********               S13020         20150822   \n",
      "178       東京都大田区多摩川**********               S13001         20170315   \n",
      "252        東京都目黒区八雲**********               S13035         20151013   \n",
      "259     東京都国分寺市西恋ケ窪**********               S13002         20160410   \n",
      "293       東京都大田区南蒲田**********               S13001         20170403   \n",
      "297   神奈川県川崎市川崎区富士見**********               S13032         20150727   \n",
      "\n",
      "        status_cd  \n",
      "12   C-20100421-9  \n",
      "68   A-20091115-7  \n",
      "71   A-20100724-7  \n",
      "122  B-20100329-6  \n",
      "144  B-20081021-3  \n",
      "178  A-20100211-2  \n",
      "252  B-20101018-6  \n",
      "259  C-20100127-8  \n",
      "293  A-20100104-1  \n",
      "297  A-20100103-5  \n"
     ]
    }
   ],
   "source": [
    "select = df_customer[df_customer['status_cd'].str.match(r'^[A-F].*[1-9]$')]\n",
    "print(select.head(10))\n"
   ]
  },
  {
   "cell_type": "markdown",
   "metadata": {},
   "source": [
    "---\n",
    "> P-016: 店舗データ（df_store）から、電話番号（tel_no）が3桁-3桁-4桁のデータを全項目表示せよ。"
   ]
  },
  {
   "cell_type": "code",
   "execution_count": 35,
   "metadata": {},
   "outputs": [
    {
     "name": "stdout",
     "output_type": "stream",
     "text": [
      "   store_cd store_name prefecture_cd prefecture              address  \\\n",
      "0    S12014       千草台店            12        千葉県      千葉県千葉市稲毛区千草台一丁目   \n",
      "1    S13002       国分寺店            13        東京都         東京都国分寺市本多二丁目   \n",
      "2    S14010        菊名店            14       神奈川県      神奈川県横浜市港北区菊名一丁目   \n",
      "3    S14033       阿久和店            14       神奈川県    神奈川県横浜市瀬谷区阿久和西一丁目   \n",
      "4    S14036     相模原中央店            14       神奈川県        神奈川県相模原市中央二丁目   \n",
      "7    S14040       長津田店            14       神奈川県  神奈川県横浜市緑区長津田みなみ台五丁目   \n",
      "9    S14050      阿久和西店            14       神奈川県    神奈川県横浜市瀬谷区阿久和西一丁目   \n",
      "11   S13052        森野店            13        東京都          東京都町田市森野三丁目   \n",
      "12   S14028       二ツ橋店            14       神奈川県       神奈川県横浜市瀬谷区二ツ橋町   \n",
      "16   S14012      本牧和田店            14       神奈川県        神奈川県横浜市中区本牧和田   \n",
      "18   S14046       北山田店            14       神奈川県     神奈川県横浜市都筑区北山田一丁目   \n",
      "19   S14022        逗子店            14       神奈川県         神奈川県逗子市逗子一丁目   \n",
      "20   S14011      日吉本町店            14       神奈川県    神奈川県横浜市港北区日吉本町四丁目   \n",
      "21   S13016       小金井店            13        東京都         東京都小金井市本町一丁目   \n",
      "22   S14034      川崎野川店            14       神奈川県         神奈川県川崎市宮前区野川   \n",
      "26   S14048      中川中央店            14       神奈川県    神奈川県横浜市都筑区中川中央二丁目   \n",
      "27   S12007        佐倉店            12        千葉県            千葉県佐倉市上志津   \n",
      "28   S14026     辻堂西海岸店            14       神奈川県      神奈川県藤沢市辻堂西海岸二丁目   \n",
      "29   S13041       八王子店            13        東京都            東京都八王子市大塚   \n",
      "31   S14049      川崎大師店            14       神奈川県      神奈川県川崎市川崎区中瀬三丁目   \n",
      "32   S14023        川崎店            14       神奈川県      神奈川県川崎市川崎区本町二丁目   \n",
      "33   S13018        清瀬店            13        東京都          東京都清瀬市松山一丁目   \n",
      "35   S14027       南藤沢店            14       神奈川県           神奈川県藤沢市南藤沢   \n",
      "36   S14021       伊勢原店            14       神奈川県       神奈川県伊勢原市伊勢原四丁目   \n",
      "37   S14047       相模原店            14       神奈川県       神奈川県相模原市千代田六丁目   \n",
      "38   S12013       習志野店            12        千葉県         千葉県習志野市芝園一丁目   \n",
      "40   S14042       新山下店            14       神奈川県      神奈川県横浜市中区新山下二丁目   \n",
      "42   S12030        八幡店            12        千葉県          千葉県市川市八幡三丁目   \n",
      "44   S14025        大和店            14       神奈川県           神奈川県大和市下和田   \n",
      "45   S14045        厚木店            14       神奈川県         神奈川県厚木市中町二丁目   \n",
      "47   S12029        東野店            12        千葉県          千葉県浦安市東野一丁目   \n",
      "49   S12053        高洲店            12        千葉県          千葉県浦安市高洲五丁目   \n",
      "51   S14024        三田店            14       神奈川県      神奈川県川崎市多摩区三田四丁目   \n",
      "52   S14006       葛が谷店            14       神奈川県        神奈川県横浜市都筑区葛が谷   \n",
      "\n",
      "                      address_kana        tel_no  longitude  latitude  \\\n",
      "0           チバケンチバシイナゲクチグサダイイッチョウメ  043-123-4003   140.1180  35.63559   \n",
      "1             トウキョウトコクブンジシホンダニチョウメ  042-123-4008   139.4802  35.70566   \n",
      "2        カナガワケンヨコハマシコウホククキクナイッチョウメ  045-123-4032   139.6326  35.50049   \n",
      "3        カナガワケンヨコハマシセヤクアクワニシイッチョウメ  045-123-4043   139.4961  35.45918   \n",
      "4           カナガワケンサガミハラシチュウオウニチョウメ  042-123-4045   139.3716  35.57327   \n",
      "7    カナガワケンヨコハマシミドリクナガツタミナミダイゴチョウメ  045-123-4046   139.4994  35.52398   \n",
      "9        カナガワケンヨコハマシセヤクアクワニシイッチョウメ  045-123-4053   139.4961  35.45918   \n",
      "11             トウキョウトマチダシモリノサンチョウメ  042-123-4030   139.4383  35.55293   \n",
      "12          カナガワケンヨコハマシセヤクフタツバシチョウ  045-123-4042   139.4963  35.46304   \n",
      "16            カナガワケンヨコハマシナカクホンモクワダ  045-123-4034   139.6582  35.42156   \n",
      "18      カナガワケンヨコハマシツヅキクキタヤマタイッチョウメ  045-123-4049   139.5916  35.56189   \n",
      "19               カナガワケンズシシズシイッチョウメ  046-123-4036   139.5789  35.29642   \n",
      "20  カナガワケンヨコハマシコウホククヒヨシホンチョウヨンチョウメ  045-123-4033   139.6316  35.54655   \n",
      "21          トウキョウトコガネイシホンチョウイッチョウメ  042-123-4015   139.5094  35.70018   \n",
      "22             カナガワケンカワサキシミヤマエクノガワ  044-123-4044   139.5998  35.57693   \n",
      "26   カナガワケンヨコハマシツヅキクナカガワチュウオウニチョウメ  045-123-4051   139.5758  35.54912   \n",
      "27                    チバケンサクラシカミシヅ  043-123-4001   140.1452  35.71872   \n",
      "28      カナガワケンフジサワシツジドウニシカイガンニチョウメ  046-123-4040   139.4466  35.32464   \n",
      "29                トウキョウトハチオウジシオオツカ  042-123-4026   139.4235  35.63787   \n",
      "31       カナガワケンカワサキシカワサキクナカゼサンチョウメ  044-123-4052   139.7327  35.53759   \n",
      "32      カナガワケンカワサキシカワサキクホンチョウニチョウメ  044-123-4037   139.7028  35.53599   \n",
      "33            トウキョウトキヨセシマツヤマイッチョウメ  042-123-4017   139.5178  35.76885   \n",
      "35              カナガワケンフジサワシミナミフジサワ  046-123-4041   139.4896  35.33762   \n",
      "36           カナガワケンイセハラシイセハラヨンチョウメ  046-123-4035   139.3129  35.40169   \n",
      "37           カナガワケンサガミハラシチヨダロクチョウメ  042-123-4050   139.3748  35.55959   \n",
      "38             チバケンナラシノシシバゾノイッチョウメ  047-123-4002   140.0220  35.66122   \n",
      "40       カナガワケンヨコハマシナカクシンヤマシタニチョウメ  045-123-4047   139.6593  35.43894   \n",
      "42              チバケンイチカワシヤワタサンチョウメ  047-123-4005   139.9240  35.72318   \n",
      "44                  カナガワケンヤマトシシモワダ  046-123-4039   139.4680  35.43414   \n",
      "45            カナガワケンアツギシナカチョウニチョウメ  046-123-4048   139.3651  35.44182   \n",
      "47             チバケンウラヤスシヒガシノイッチョウメ  047-123-4004   139.8968  35.65086   \n",
      "49               チバケンウラヤスシタカスゴチョウメ  047-123-4006   139.9176  35.63755   \n",
      "51          カナガワケンカワサキシタマクミタヨンチョウメ  044-123-4038   139.5424  35.60770   \n",
      "52             カナガワケンヨコハマシツヅキククズガヤ  045-123-4031   139.5633  35.53573   \n",
      "\n",
      "    floor_area  \n",
      "0       1698.0  \n",
      "1       1735.0  \n",
      "2       1732.0  \n",
      "3       1495.0  \n",
      "4       1679.0  \n",
      "7       1548.0  \n",
      "9       1830.0  \n",
      "11      1087.0  \n",
      "12      1574.0  \n",
      "16      1341.0  \n",
      "18       831.0  \n",
      "19      1838.0  \n",
      "20       890.0  \n",
      "21      1399.0  \n",
      "22      1318.0  \n",
      "26      1657.0  \n",
      "27      1895.0  \n",
      "28      1732.0  \n",
      "29       810.0  \n",
      "31       962.0  \n",
      "32      1804.0  \n",
      "33      1220.0  \n",
      "35      1521.0  \n",
      "36       962.0  \n",
      "37      1047.0  \n",
      "38       808.0  \n",
      "40      1044.0  \n",
      "42      1162.0  \n",
      "44      1011.0  \n",
      "45       980.0  \n",
      "47      1101.0  \n",
      "49      1555.0  \n",
      "51       972.0  \n",
      "52      1886.0  \n"
     ]
    }
   ],
   "source": [
    "select = df_store[df_store['tel_no'].str.match(r'\\d{3}-\\d{3}-\\d{4}$')]\n",
    "print(select)"
   ]
  },
  {
   "cell_type": "markdown",
   "metadata": {},
   "source": [
    "---\n",
    "> P-017: 顧客データ（df_customer）を生年月日（birth_day）で高齢順にソートし、先頭から全項目を10件表示せよ。"
   ]
  },
  {
   "cell_type": "code",
   "execution_count": 36,
   "metadata": {},
   "outputs": [
    {
     "name": "stdout",
     "output_type": "stream",
     "text": [
      "          customer_id customer_name gender_cd gender   birth_day  age  \\\n",
      "18817  CS003813000014        村山 菜々美         1     女性  1928-11-26   90   \n",
      "12328  CS026813000004         吉村 朝陽         1     女性  1928-12-14   90   \n",
      "15682  CS018811000003         熊沢 美里         1     女性  1929-01-07   90   \n",
      "15302  CS027803000004         内村 拓郎         0     男性  1929-01-12   90   \n",
      "1681   CS013801000003         天野 拓郎         0     男性  1929-01-15   90   \n",
      "7511   CS001814000022         鶴田 里穂         1     女性  1929-01-28   90   \n",
      "2378   CS016815000002         山元 美紀         1     女性  1929-02-22   90   \n",
      "4680   CS009815000003         中田 里穂         1     女性  1929-04-08   89   \n",
      "16070  CS005813000015        金谷 恵梨香         1     女性  1929-04-09   89   \n",
      "6305   CS012813000013         宇野 南朋         1     女性  1929-04-09   89   \n",
      "\n",
      "      postal_cd                 address application_store_cd application_date  \\\n",
      "18817  182-0007     東京都調布市菊野台**********               S13003         20160214   \n",
      "12328  251-0043   神奈川県藤沢市辻堂元町**********               S14026         20150723   \n",
      "15682  204-0004      東京都清瀬市野塩**********               S13018         20150403   \n",
      "15302  251-0031  神奈川県藤沢市鵠沼藤が谷**********               S14027         20151227   \n",
      "1681   274-0824     千葉県船橋市前原東**********               S12013         20160120   \n",
      "7511   144-0045     東京都大田区南六郷**********               S13001         20161012   \n",
      "2378   184-0005     東京都小金井市桜町**********               S13016         20150629   \n",
      "4680   154-0014     東京都世田谷区新町**********               S13009         20150421   \n",
      "16070  165-0032      東京都中野区鷺宮**********               S13005         20150506   \n",
      "6305   231-0806  神奈川県横浜市中区本牧町**********               S14012         20150712   \n",
      "\n",
      "          status_cd  \n",
      "18817  0-00000000-0  \n",
      "12328  0-00000000-0  \n",
      "15682  0-00000000-0  \n",
      "15302  0-00000000-0  \n",
      "1681   0-00000000-0  \n",
      "7511   A-20090415-7  \n",
      "2378   C-20090923-C  \n",
      "4680   D-20091021-E  \n",
      "16070  0-00000000-0  \n",
      "6305   0-00000000-0  \n"
     ]
    }
   ],
   "source": [
    "sort= df_customer.sort_values(by='birth_day')\n",
    "print(sort.head(10))\n"
   ]
  },
  {
   "cell_type": "markdown",
   "metadata": {},
   "source": [
    "---\n",
    "> P-018: 顧客データ（df_customer）を生年月日（birth_day）で若い順にソートし、先頭から全項目を10件表示せよ。"
   ]
  },
  {
   "cell_type": "code",
   "execution_count": 37,
   "metadata": {},
   "outputs": [
    {
     "name": "stdout",
     "output_type": "stream",
     "text": [
      "          customer_id customer_name gender_cd gender   birth_day  age  \\\n",
      "18817  CS003813000014        村山 菜々美         1     女性  1928-11-26   90   \n",
      "12328  CS026813000004         吉村 朝陽         1     女性  1928-12-14   90   \n",
      "15682  CS018811000003         熊沢 美里         1     女性  1929-01-07   90   \n",
      "15302  CS027803000004         内村 拓郎         0     男性  1929-01-12   90   \n",
      "1681   CS013801000003         天野 拓郎         0     男性  1929-01-15   90   \n",
      "7511   CS001814000022         鶴田 里穂         1     女性  1929-01-28   90   \n",
      "2378   CS016815000002         山元 美紀         1     女性  1929-02-22   90   \n",
      "4680   CS009815000003         中田 里穂         1     女性  1929-04-08   89   \n",
      "16070  CS005813000015        金谷 恵梨香         1     女性  1929-04-09   89   \n",
      "6305   CS012813000013         宇野 南朋         1     女性  1929-04-09   89   \n",
      "\n",
      "      postal_cd                 address application_store_cd application_date  \\\n",
      "18817  182-0007     東京都調布市菊野台**********               S13003         20160214   \n",
      "12328  251-0043   神奈川県藤沢市辻堂元町**********               S14026         20150723   \n",
      "15682  204-0004      東京都清瀬市野塩**********               S13018         20150403   \n",
      "15302  251-0031  神奈川県藤沢市鵠沼藤が谷**********               S14027         20151227   \n",
      "1681   274-0824     千葉県船橋市前原東**********               S12013         20160120   \n",
      "7511   144-0045     東京都大田区南六郷**********               S13001         20161012   \n",
      "2378   184-0005     東京都小金井市桜町**********               S13016         20150629   \n",
      "4680   154-0014     東京都世田谷区新町**********               S13009         20150421   \n",
      "16070  165-0032      東京都中野区鷺宮**********               S13005         20150506   \n",
      "6305   231-0806  神奈川県横浜市中区本牧町**********               S14012         20150712   \n",
      "\n",
      "          status_cd  \n",
      "18817  0-00000000-0  \n",
      "12328  0-00000000-0  \n",
      "15682  0-00000000-0  \n",
      "15302  0-00000000-0  \n",
      "1681   0-00000000-0  \n",
      "7511   A-20090415-7  \n",
      "2378   C-20090923-C  \n",
      "4680   D-20091021-E  \n",
      "16070  0-00000000-0  \n",
      "6305   0-00000000-0  \n"
     ]
    }
   ],
   "source": [
    "sort = df_customer.sort_values(by='birth_day', ascending=True)\n",
    "print(sort.head(10))\n"
   ]
  },
  {
   "cell_type": "markdown",
   "metadata": {},
   "source": [
    "---\n",
    "> P-019: レシート明細データ（df_receipt）に対し、1件あたりの売上金額（amount）が高い順にランクを付与し、先頭から10件表示せよ。項目は顧客ID（customer_id）、売上金額（amount）、付与したランクを表示させること。なお、売上金額（amount）が等しい場合は同一順位を付与するものとする。"
   ]
  },
  {
   "cell_type": "code",
   "execution_count": 38,
   "metadata": {},
   "outputs": [
    {
     "name": "stdout",
     "output_type": "stream",
     "text": [
      "          customer_id  amount  rank\n",
      "1202   CS011415000006   10925   1.0\n",
      "62317  ZZ000000000000    6800   2.0\n",
      "54095  CS028605000002    5780   3.0\n",
      "72747  ZZ000000000000    5480   4.0\n",
      "4632   CS015515000034    5480   4.0\n",
      "10320  ZZ000000000000    5480   4.0\n",
      "28304  ZZ000000000000    5440   5.0\n",
      "97294  CS021515000089    5440   5.0\n",
      "77874  CS008513000063    5280   6.0\n",
      "55795  CS032414000072    5280   6.0\n"
     ]
    }
   ],
   "source": [
    "df_receipt['rank'] = df_receipt['amount'].rank(method='dense', ascending=False)\n",
    "result = df_receipt.sort_values(by='amount', ascending=False).head(10)[['customer_id', 'amount', 'rank']]\n",
    "print(result)"
   ]
  },
  {
   "cell_type": "markdown",
   "metadata": {},
   "source": [
    "---\n",
    "> P-020: レシート明細データ（df_receipt）に対し、1件あたりの売上金額（amount）が高い順にランクを付与し、先頭から10件表示せよ。項目は顧客ID（customer_id）、売上金額（amount）、付与したランクを表示させること。なお、売上金額（amount）が等しい場合でも別順位を付与すること。"
   ]
  },
  {
   "cell_type": "code",
   "execution_count": 48,
   "metadata": {},
   "outputs": [
    {
     "name": "stdout",
     "output_type": "stream",
     "text": [
      "          customer_id  amount  rank\n",
      "1202   CS011415000006   10925   1.0\n",
      "62317  ZZ000000000000    6800   2.0\n",
      "54095  CS028605000002    5780   3.0\n",
      "72747  ZZ000000000000    5480   6.0\n",
      "4632   CS015515000034    5480   4.0\n",
      "10320  ZZ000000000000    5480   5.0\n",
      "28304  ZZ000000000000    5440   7.0\n",
      "97294  CS021515000089    5440   8.0\n",
      "77874  CS008513000063    5280  31.0\n",
      "55795  CS032414000072    5280  23.0\n"
     ]
    }
   ],
   "source": [
    "df_receipt['rank'] = df_receipt['amount'].rank(method='first', ascending=False)\n",
    "result = df_receipt.sort_values(by='amount', ascending=False).head(10)[['customer_id', 'amount', 'rank']]\n",
    "print(result)\n"
   ]
  },
  {
   "cell_type": "markdown",
   "metadata": {},
   "source": [
    "---\n",
    "> P-021: レシート明細データ（df_receipt）に対し、件数をカウントせよ。"
   ]
  },
  {
   "cell_type": "code",
   "execution_count": 51,
   "metadata": {},
   "outputs": [
    {
     "data": {
      "text/plain": [
       "104681"
      ]
     },
     "execution_count": 51,
     "metadata": {},
     "output_type": "execute_result"
    }
   ],
   "source": [
    "len(df_receipt)"
   ]
  },
  {
   "cell_type": "markdown",
   "metadata": {},
   "source": [
    "---\n",
    "> P-022: レシート明細データ（df_receipt）の顧客ID（customer_id）に対し、ユニーク件数をカウントせよ。"
   ]
  },
  {
   "cell_type": "code",
   "execution_count": 52,
   "metadata": {},
   "outputs": [
    {
     "data": {
      "text/plain": [
       "8307"
      ]
     },
     "execution_count": 52,
     "metadata": {},
     "output_type": "execute_result"
    }
   ],
   "source": [
    "df_receipt['customer_id'].nunique()"
   ]
  },
  {
   "cell_type": "markdown",
   "metadata": {},
   "source": [
    "---\n",
    "> P-023: レシート明細データ（df_receipt）に対し、店舗コード（store_cd）ごとに売上金額（amount）と売上数量（quantity）を合計せよ。"
   ]
  },
  {
   "cell_type": "code",
   "execution_count": 53,
   "metadata": {},
   "outputs": [
    {
     "data": {
      "text/html": [
       "<div>\n",
       "<style scoped>\n",
       "    .dataframe tbody tr th:only-of-type {\n",
       "        vertical-align: middle;\n",
       "    }\n",
       "\n",
       "    .dataframe tbody tr th {\n",
       "        vertical-align: top;\n",
       "    }\n",
       "\n",
       "    .dataframe thead th {\n",
       "        text-align: right;\n",
       "    }\n",
       "</style>\n",
       "<table border=\"1\" class=\"dataframe\">\n",
       "  <thead>\n",
       "    <tr style=\"text-align: right;\">\n",
       "      <th></th>\n",
       "      <th>store_cd</th>\n",
       "      <th>amount</th>\n",
       "      <th>quantity</th>\n",
       "    </tr>\n",
       "  </thead>\n",
       "  <tbody>\n",
       "    <tr>\n",
       "      <th>0</th>\n",
       "      <td>S12007</td>\n",
       "      <td>638761</td>\n",
       "      <td>2099</td>\n",
       "    </tr>\n",
       "    <tr>\n",
       "      <th>1</th>\n",
       "      <td>S12013</td>\n",
       "      <td>787513</td>\n",
       "      <td>2425</td>\n",
       "    </tr>\n",
       "    <tr>\n",
       "      <th>2</th>\n",
       "      <td>S12014</td>\n",
       "      <td>725167</td>\n",
       "      <td>2358</td>\n",
       "    </tr>\n",
       "    <tr>\n",
       "      <th>3</th>\n",
       "      <td>S12029</td>\n",
       "      <td>794741</td>\n",
       "      <td>2555</td>\n",
       "    </tr>\n",
       "    <tr>\n",
       "      <th>4</th>\n",
       "      <td>S12030</td>\n",
       "      <td>684402</td>\n",
       "      <td>2403</td>\n",
       "    </tr>\n",
       "    <tr>\n",
       "      <th>5</th>\n",
       "      <td>S13001</td>\n",
       "      <td>811936</td>\n",
       "      <td>2347</td>\n",
       "    </tr>\n",
       "    <tr>\n",
       "      <th>6</th>\n",
       "      <td>S13002</td>\n",
       "      <td>727821</td>\n",
       "      <td>2340</td>\n",
       "    </tr>\n",
       "    <tr>\n",
       "      <th>7</th>\n",
       "      <td>S13003</td>\n",
       "      <td>764294</td>\n",
       "      <td>2197</td>\n",
       "    </tr>\n",
       "    <tr>\n",
       "      <th>8</th>\n",
       "      <td>S13004</td>\n",
       "      <td>779373</td>\n",
       "      <td>2390</td>\n",
       "    </tr>\n",
       "    <tr>\n",
       "      <th>9</th>\n",
       "      <td>S13005</td>\n",
       "      <td>629876</td>\n",
       "      <td>2004</td>\n",
       "    </tr>\n",
       "    <tr>\n",
       "      <th>10</th>\n",
       "      <td>S13008</td>\n",
       "      <td>809288</td>\n",
       "      <td>2491</td>\n",
       "    </tr>\n",
       "    <tr>\n",
       "      <th>11</th>\n",
       "      <td>S13009</td>\n",
       "      <td>808870</td>\n",
       "      <td>2486</td>\n",
       "    </tr>\n",
       "    <tr>\n",
       "      <th>12</th>\n",
       "      <td>S13015</td>\n",
       "      <td>780873</td>\n",
       "      <td>2248</td>\n",
       "    </tr>\n",
       "    <tr>\n",
       "      <th>13</th>\n",
       "      <td>S13016</td>\n",
       "      <td>793773</td>\n",
       "      <td>2432</td>\n",
       "    </tr>\n",
       "    <tr>\n",
       "      <th>14</th>\n",
       "      <td>S13017</td>\n",
       "      <td>748221</td>\n",
       "      <td>2376</td>\n",
       "    </tr>\n",
       "    <tr>\n",
       "      <th>15</th>\n",
       "      <td>S13018</td>\n",
       "      <td>790535</td>\n",
       "      <td>2562</td>\n",
       "    </tr>\n",
       "    <tr>\n",
       "      <th>16</th>\n",
       "      <td>S13019</td>\n",
       "      <td>827833</td>\n",
       "      <td>2541</td>\n",
       "    </tr>\n",
       "    <tr>\n",
       "      <th>17</th>\n",
       "      <td>S13020</td>\n",
       "      <td>796383</td>\n",
       "      <td>2383</td>\n",
       "    </tr>\n",
       "    <tr>\n",
       "      <th>18</th>\n",
       "      <td>S13031</td>\n",
       "      <td>705968</td>\n",
       "      <td>2336</td>\n",
       "    </tr>\n",
       "    <tr>\n",
       "      <th>19</th>\n",
       "      <td>S13032</td>\n",
       "      <td>790501</td>\n",
       "      <td>2491</td>\n",
       "    </tr>\n",
       "    <tr>\n",
       "      <th>20</th>\n",
       "      <td>S13035</td>\n",
       "      <td>715869</td>\n",
       "      <td>2219</td>\n",
       "    </tr>\n",
       "    <tr>\n",
       "      <th>21</th>\n",
       "      <td>S13037</td>\n",
       "      <td>693087</td>\n",
       "      <td>2344</td>\n",
       "    </tr>\n",
       "    <tr>\n",
       "      <th>22</th>\n",
       "      <td>S13038</td>\n",
       "      <td>708884</td>\n",
       "      <td>2337</td>\n",
       "    </tr>\n",
       "    <tr>\n",
       "      <th>23</th>\n",
       "      <td>S13039</td>\n",
       "      <td>611888</td>\n",
       "      <td>1981</td>\n",
       "    </tr>\n",
       "    <tr>\n",
       "      <th>24</th>\n",
       "      <td>S13041</td>\n",
       "      <td>728266</td>\n",
       "      <td>2233</td>\n",
       "    </tr>\n",
       "    <tr>\n",
       "      <th>25</th>\n",
       "      <td>S13043</td>\n",
       "      <td>587895</td>\n",
       "      <td>1881</td>\n",
       "    </tr>\n",
       "    <tr>\n",
       "      <th>26</th>\n",
       "      <td>S13044</td>\n",
       "      <td>520764</td>\n",
       "      <td>1729</td>\n",
       "    </tr>\n",
       "    <tr>\n",
       "      <th>27</th>\n",
       "      <td>S13051</td>\n",
       "      <td>107452</td>\n",
       "      <td>354</td>\n",
       "    </tr>\n",
       "    <tr>\n",
       "      <th>28</th>\n",
       "      <td>S13052</td>\n",
       "      <td>100314</td>\n",
       "      <td>250</td>\n",
       "    </tr>\n",
       "    <tr>\n",
       "      <th>29</th>\n",
       "      <td>S14006</td>\n",
       "      <td>712839</td>\n",
       "      <td>2284</td>\n",
       "    </tr>\n",
       "    <tr>\n",
       "      <th>30</th>\n",
       "      <td>S14010</td>\n",
       "      <td>790361</td>\n",
       "      <td>2290</td>\n",
       "    </tr>\n",
       "    <tr>\n",
       "      <th>31</th>\n",
       "      <td>S14011</td>\n",
       "      <td>805724</td>\n",
       "      <td>2434</td>\n",
       "    </tr>\n",
       "    <tr>\n",
       "      <th>32</th>\n",
       "      <td>S14012</td>\n",
       "      <td>720600</td>\n",
       "      <td>2412</td>\n",
       "    </tr>\n",
       "    <tr>\n",
       "      <th>33</th>\n",
       "      <td>S14021</td>\n",
       "      <td>699511</td>\n",
       "      <td>2231</td>\n",
       "    </tr>\n",
       "    <tr>\n",
       "      <th>34</th>\n",
       "      <td>S14022</td>\n",
       "      <td>651328</td>\n",
       "      <td>2047</td>\n",
       "    </tr>\n",
       "    <tr>\n",
       "      <th>35</th>\n",
       "      <td>S14023</td>\n",
       "      <td>727630</td>\n",
       "      <td>2258</td>\n",
       "    </tr>\n",
       "    <tr>\n",
       "      <th>36</th>\n",
       "      <td>S14024</td>\n",
       "      <td>736323</td>\n",
       "      <td>2417</td>\n",
       "    </tr>\n",
       "    <tr>\n",
       "      <th>37</th>\n",
       "      <td>S14025</td>\n",
       "      <td>755581</td>\n",
       "      <td>2394</td>\n",
       "    </tr>\n",
       "    <tr>\n",
       "      <th>38</th>\n",
       "      <td>S14026</td>\n",
       "      <td>824537</td>\n",
       "      <td>2503</td>\n",
       "    </tr>\n",
       "    <tr>\n",
       "      <th>39</th>\n",
       "      <td>S14027</td>\n",
       "      <td>714550</td>\n",
       "      <td>2303</td>\n",
       "    </tr>\n",
       "    <tr>\n",
       "      <th>40</th>\n",
       "      <td>S14028</td>\n",
       "      <td>786145</td>\n",
       "      <td>2458</td>\n",
       "    </tr>\n",
       "    <tr>\n",
       "      <th>41</th>\n",
       "      <td>S14033</td>\n",
       "      <td>725318</td>\n",
       "      <td>2282</td>\n",
       "    </tr>\n",
       "    <tr>\n",
       "      <th>42</th>\n",
       "      <td>S14034</td>\n",
       "      <td>653681</td>\n",
       "      <td>2024</td>\n",
       "    </tr>\n",
       "    <tr>\n",
       "      <th>43</th>\n",
       "      <td>S14036</td>\n",
       "      <td>203694</td>\n",
       "      <td>635</td>\n",
       "    </tr>\n",
       "    <tr>\n",
       "      <th>44</th>\n",
       "      <td>S14040</td>\n",
       "      <td>701858</td>\n",
       "      <td>2233</td>\n",
       "    </tr>\n",
       "    <tr>\n",
       "      <th>45</th>\n",
       "      <td>S14042</td>\n",
       "      <td>534689</td>\n",
       "      <td>1935</td>\n",
       "    </tr>\n",
       "    <tr>\n",
       "      <th>46</th>\n",
       "      <td>S14045</td>\n",
       "      <td>458484</td>\n",
       "      <td>1398</td>\n",
       "    </tr>\n",
       "    <tr>\n",
       "      <th>47</th>\n",
       "      <td>S14046</td>\n",
       "      <td>412646</td>\n",
       "      <td>1354</td>\n",
       "    </tr>\n",
       "    <tr>\n",
       "      <th>48</th>\n",
       "      <td>S14047</td>\n",
       "      <td>338329</td>\n",
       "      <td>1041</td>\n",
       "    </tr>\n",
       "    <tr>\n",
       "      <th>49</th>\n",
       "      <td>S14048</td>\n",
       "      <td>234276</td>\n",
       "      <td>769</td>\n",
       "    </tr>\n",
       "    <tr>\n",
       "      <th>50</th>\n",
       "      <td>S14049</td>\n",
       "      <td>230808</td>\n",
       "      <td>788</td>\n",
       "    </tr>\n",
       "    <tr>\n",
       "      <th>51</th>\n",
       "      <td>S14050</td>\n",
       "      <td>167090</td>\n",
       "      <td>580</td>\n",
       "    </tr>\n",
       "  </tbody>\n",
       "</table>\n",
       "</div>"
      ],
      "text/plain": [
       "   store_cd  amount  quantity\n",
       "0    S12007  638761      2099\n",
       "1    S12013  787513      2425\n",
       "2    S12014  725167      2358\n",
       "3    S12029  794741      2555\n",
       "4    S12030  684402      2403\n",
       "5    S13001  811936      2347\n",
       "6    S13002  727821      2340\n",
       "7    S13003  764294      2197\n",
       "8    S13004  779373      2390\n",
       "9    S13005  629876      2004\n",
       "10   S13008  809288      2491\n",
       "11   S13009  808870      2486\n",
       "12   S13015  780873      2248\n",
       "13   S13016  793773      2432\n",
       "14   S13017  748221      2376\n",
       "15   S13018  790535      2562\n",
       "16   S13019  827833      2541\n",
       "17   S13020  796383      2383\n",
       "18   S13031  705968      2336\n",
       "19   S13032  790501      2491\n",
       "20   S13035  715869      2219\n",
       "21   S13037  693087      2344\n",
       "22   S13038  708884      2337\n",
       "23   S13039  611888      1981\n",
       "24   S13041  728266      2233\n",
       "25   S13043  587895      1881\n",
       "26   S13044  520764      1729\n",
       "27   S13051  107452       354\n",
       "28   S13052  100314       250\n",
       "29   S14006  712839      2284\n",
       "30   S14010  790361      2290\n",
       "31   S14011  805724      2434\n",
       "32   S14012  720600      2412\n",
       "33   S14021  699511      2231\n",
       "34   S14022  651328      2047\n",
       "35   S14023  727630      2258\n",
       "36   S14024  736323      2417\n",
       "37   S14025  755581      2394\n",
       "38   S14026  824537      2503\n",
       "39   S14027  714550      2303\n",
       "40   S14028  786145      2458\n",
       "41   S14033  725318      2282\n",
       "42   S14034  653681      2024\n",
       "43   S14036  203694       635\n",
       "44   S14040  701858      2233\n",
       "45   S14042  534689      1935\n",
       "46   S14045  458484      1398\n",
       "47   S14046  412646      1354\n",
       "48   S14047  338329      1041\n",
       "49   S14048  234276       769\n",
       "50   S14049  230808       788\n",
       "51   S14050  167090       580"
      ]
     },
     "execution_count": 53,
     "metadata": {},
     "output_type": "execute_result"
    }
   ],
   "source": [
    "df_receipt.groupby('store_cd').agg({'amount': 'sum', 'quantity': 'sum'}).reset_index()"
   ]
  },
  {
   "cell_type": "markdown",
   "metadata": {},
   "source": [
    "---\n",
    "> P-024: レシート明細データ（df_receipt）に対し、顧客ID（customer_id）ごとに最も新しい売上年月日（sales_ymd）を求め、10件表示せよ。"
   ]
  },
  {
   "cell_type": "code",
   "execution_count": 58,
   "metadata": {},
   "outputs": [
    {
     "name": "stdout",
     "output_type": "stream",
     "text": [
      "      customer_id  sales_ymd\n",
      "0  CS001113000004   20190308\n",
      "1  CS001114000005   20190731\n",
      "2  CS001115000010   20190405\n",
      "3  CS001205000004   20190625\n",
      "4  CS001205000006   20190224\n",
      "5  CS001211000025   20190322\n",
      "6  CS001212000027   20170127\n",
      "7  CS001212000031   20180906\n",
      "8  CS001212000046   20170811\n",
      "9  CS001212000070   20191018\n"
     ]
    }
   ],
   "source": [
    "sales_ymd=df_receipt.groupby('customer_id')['sales_ymd'].max().reset_index()\n",
    "result=sales_ymd.head(10)\n",
    "print(result)"
   ]
  },
  {
   "cell_type": "markdown",
   "metadata": {},
   "source": [
    "---\n",
    "> P-025: レシート明細データ（df_receipt）に対し、顧客ID（customer_id）ごとに最も古い売上年月日（sales_ymd）を求め、10件表示せよ。"
   ]
  },
  {
   "cell_type": "code",
   "execution_count": 60,
   "metadata": {},
   "outputs": [
    {
     "data": {
      "text/html": [
       "<div>\n",
       "<style scoped>\n",
       "    .dataframe tbody tr th:only-of-type {\n",
       "        vertical-align: middle;\n",
       "    }\n",
       "\n",
       "    .dataframe tbody tr th {\n",
       "        vertical-align: top;\n",
       "    }\n",
       "\n",
       "    .dataframe thead th {\n",
       "        text-align: right;\n",
       "    }\n",
       "</style>\n",
       "<table border=\"1\" class=\"dataframe\">\n",
       "  <thead>\n",
       "    <tr style=\"text-align: right;\">\n",
       "      <th></th>\n",
       "      <th>customer_id</th>\n",
       "      <th>sales_ymd</th>\n",
       "    </tr>\n",
       "  </thead>\n",
       "  <tbody>\n",
       "    <tr>\n",
       "      <th>0</th>\n",
       "      <td>CS001113000004</td>\n",
       "      <td>20190308</td>\n",
       "    </tr>\n",
       "    <tr>\n",
       "      <th>1</th>\n",
       "      <td>CS001114000005</td>\n",
       "      <td>20180503</td>\n",
       "    </tr>\n",
       "    <tr>\n",
       "      <th>2</th>\n",
       "      <td>CS001115000010</td>\n",
       "      <td>20171228</td>\n",
       "    </tr>\n",
       "    <tr>\n",
       "      <th>3</th>\n",
       "      <td>CS001205000004</td>\n",
       "      <td>20170914</td>\n",
       "    </tr>\n",
       "    <tr>\n",
       "      <th>4</th>\n",
       "      <td>CS001205000006</td>\n",
       "      <td>20180207</td>\n",
       "    </tr>\n",
       "    <tr>\n",
       "      <th>5</th>\n",
       "      <td>CS001211000025</td>\n",
       "      <td>20190322</td>\n",
       "    </tr>\n",
       "    <tr>\n",
       "      <th>6</th>\n",
       "      <td>CS001212000027</td>\n",
       "      <td>20170127</td>\n",
       "    </tr>\n",
       "    <tr>\n",
       "      <th>7</th>\n",
       "      <td>CS001212000031</td>\n",
       "      <td>20180906</td>\n",
       "    </tr>\n",
       "    <tr>\n",
       "      <th>8</th>\n",
       "      <td>CS001212000046</td>\n",
       "      <td>20170811</td>\n",
       "    </tr>\n",
       "    <tr>\n",
       "      <th>9</th>\n",
       "      <td>CS001212000070</td>\n",
       "      <td>20191018</td>\n",
       "    </tr>\n",
       "  </tbody>\n",
       "</table>\n",
       "</div>"
      ],
      "text/plain": [
       "      customer_id  sales_ymd\n",
       "0  CS001113000004   20190308\n",
       "1  CS001114000005   20180503\n",
       "2  CS001115000010   20171228\n",
       "3  CS001205000004   20170914\n",
       "4  CS001205000006   20180207\n",
       "5  CS001211000025   20190322\n",
       "6  CS001212000027   20170127\n",
       "7  CS001212000031   20180906\n",
       "8  CS001212000046   20170811\n",
       "9  CS001212000070   20191018"
      ]
     },
     "execution_count": 60,
     "metadata": {},
     "output_type": "execute_result"
    }
   ],
   "source": [
    "sales_ymd = df_receipt.groupby('customer_id')['sales_ymd'].min().reset_index()\n",
    "sales_ymd.head(10)"
   ]
  },
  {
   "cell_type": "markdown",
   "metadata": {},
   "source": [
    "---\n",
    "> P-026: レシート明細データ（df_receipt）に対し、顧客ID（customer_id）ごとに最も新しい売上年月日（sales_ymd）と古い売上年月日を求め、両者が異なるデータを10件表示せよ。"
   ]
  },
  {
   "cell_type": "code",
   "execution_count": 63,
   "metadata": {},
   "outputs": [
    {
     "name": "stdout",
     "output_type": "stream",
     "text": [
      "       customer_id       max       min\n",
      "1   CS001114000005  20190731  20180503\n",
      "2   CS001115000010  20190405  20171228\n",
      "3   CS001205000004  20190625  20170914\n",
      "4   CS001205000006  20190224  20180207\n",
      "13  CS001214000009  20190902  20170306\n",
      "14  CS001214000017  20191006  20180828\n",
      "16  CS001214000048  20190929  20171109\n",
      "17  CS001214000052  20190617  20180208\n",
      "20  CS001215000005  20181021  20170206\n",
      "21  CS001215000040  20171022  20170214\n"
     ]
    }
   ],
   "source": [
    "sales = df_receipt.groupby('customer_id')['sales_ymd'].agg(['max', 'min']).reset_index()\n",
    "different = sales[sales['max'] != sales['min']]\n",
    "result=different.head(10)\n",
    "print(result)"
   ]
  },
  {
   "cell_type": "markdown",
   "metadata": {},
   "source": [
    "---\n",
    "> P-027: レシート明細データ（df_receipt）に対し、店舗コード（store_cd）ごとに売上金額（amount）の平均を計算し、降順でTOP5を表示せよ。"
   ]
  },
  {
   "cell_type": "code",
   "execution_count": 65,
   "metadata": {},
   "outputs": [
    {
     "name": "stdout",
     "output_type": "stream",
     "text": [
      "   store_cd      amount\n",
      "28   S13052  402.867470\n",
      "12   S13015  351.111960\n",
      "7    S13003  350.915519\n",
      "30   S14010  348.791262\n",
      "5    S13001  348.470386\n"
     ]
    }
   ],
   "source": [
    "avg = df_receipt.groupby('store_cd')['amount'].mean().reset_index()\n",
    "top = avg.sort_values(by='amount', ascending=False).head(5)\n",
    "\n",
    "print(top)"
   ]
  },
  {
   "cell_type": "markdown",
   "metadata": {},
   "source": [
    "---\n",
    "> P-028: レシート明細データ（df_receipt）に対し、店舗コード（store_cd）ごとに売上金額（amount）の中央値を計算し、降順でTOP5を表示せよ。"
   ]
  },
  {
   "cell_type": "code",
   "execution_count": 68,
   "metadata": {},
   "outputs": [
    {
     "name": "stdout",
     "output_type": "stream",
     "text": [
      "   store_cd  amount\n",
      "28   S13052   190.0\n",
      "30   S14010   188.0\n",
      "51   S14050   185.0\n",
      "44   S14040   180.0\n",
      "7    S13003   180.0\n"
     ]
    }
   ],
   "source": [
    "med = df_receipt.groupby('store_cd')['amount'].median().reset_index()\n",
    "top = med.sort_values(by='amount', ascending=False).head(5)\n",
    "\n",
    "print(top)"
   ]
  },
  {
   "cell_type": "markdown",
   "metadata": {},
   "source": [
    "---\n",
    "> P-029: レシート明細データ（df_receipt）に対し、店舗コード（store_cd）ごとに商品コード（product_cd）の最頻値を求め、10件表示させよ。"
   ]
  },
  {
   "cell_type": "code",
   "execution_count": 69,
   "metadata": {},
   "outputs": [
    {
     "name": "stdout",
     "output_type": "stream",
     "text": [
      "  store_cd  product_cd\n",
      "0   S12007  P060303001\n",
      "1   S12013  P060303001\n",
      "2   S12014  P060303001\n",
      "3   S12029  P060303001\n",
      "4   S12030  P060303001\n",
      "5   S13001  P060303001\n",
      "6   S13002  P060303001\n",
      "7   S13003  P071401001\n",
      "8   S13004  P060303001\n",
      "9   S13005  P040503001\n"
     ]
    }
   ],
   "source": [
    "mode = df_receipt.groupby('store_cd')['product_cd'].agg(lambda x: x.mode()[0]).reset_index()\n",
    "result = mode.head(10)\n",
    "print(result)"
   ]
  },
  {
   "cell_type": "markdown",
   "metadata": {},
   "source": [
    "---\n",
    "> P-030: レシート明細データ（df_receipt）に対し、店舗コード（store_cd）ごとに売上金額（amount）の分散を計算し、降順で5件表示せよ。"
   ]
  },
  {
   "cell_type": "code",
   "execution_count": 70,
   "metadata": {},
   "outputs": [
    {
     "name": "stdout",
     "output_type": "stream",
     "text": [
      "   store_cd         amount\n",
      "28   S13052  441863.252526\n",
      "31   S14011  306442.242432\n",
      "42   S14034  297068.392740\n",
      "5    S13001  295558.842618\n",
      "12   S13015  295427.197086\n"
     ]
    }
   ],
   "source": [
    "var = df_receipt.groupby('store_cd')['amount'].var().reset_index()\n",
    "top = var.sort_values(by='amount', ascending=False).head(5)\n",
    "\n",
    "print(top)"
   ]
  },
  {
   "cell_type": "markdown",
   "metadata": {},
   "source": [
    "---\n",
    "> P-031: レシート明細データ（df_receipt）に対し、店舗コード（store_cd）ごとに売上金額（amount）の標準偏差を計算し、降順で5件表示せよ。"
   ]
  },
  {
   "cell_type": "markdown",
   "metadata": {},
   "source": [
    "TIPS:\n",
    "\n",
    "PandasとNumpyでddofのデフォルト値が異なることに注意しましょう\n",
    "```\n",
    "Pandas：\n",
    "DataFrame.std(self, axis=None, skipna=None, level=None, ddof=1, numeric_only=None, **kwargs)\n",
    "Numpy:\n",
    "numpy.std(a, axis=None, dtype=None, out=None, ddof=0, keepdims=)\n",
    "```"
   ]
  },
  {
   "cell_type": "code",
   "execution_count": 71,
   "metadata": {},
   "outputs": [
    {
     "name": "stdout",
     "output_type": "stream",
     "text": [
      "   store_cd      amount\n",
      "28   S13052  664.727954\n",
      "31   S14011  553.572256\n",
      "42   S14034  545.039808\n",
      "5    S13001  543.653237\n",
      "12   S13015  543.532149\n"
     ]
    }
   ],
   "source": [
    "sales = df_receipt.groupby('store_cd')['amount'].apply(lambda x: np.std(x, ddof=1)).reset_index()\n",
    "top = sales.sort_values(by='amount', ascending=False).head(5)\n",
    "print(top)"
   ]
  },
  {
   "cell_type": "markdown",
   "metadata": {},
   "source": [
    "---\n",
    "> P-032: レシート明細データ（df_receipt）の売上金額（amount）について、25％刻みでパーセンタイル値を求めよ。"
   ]
  },
  {
   "cell_type": "code",
   "execution_count": 72,
   "metadata": {},
   "outputs": [
    {
     "name": "stdout",
     "output_type": "stream",
     "text": [
      "25%: 102.0\n",
      "50%: 170.0\n",
      "75%: 288.0\n",
      "100%: 10925.0\n"
     ]
    }
   ],
   "source": [
    "percentiles = df_receipt['amount'].quantile([0.25, 0.50, 0.75, 1.0])\n",
    "\n",
    "print(\"25%:\", percentiles[0.25])\n",
    "print(\"50%:\", percentiles[0.50])\n",
    "print(\"75%:\", percentiles[0.75])\n",
    "print(\"100%:\", percentiles[1.0])"
   ]
  },
  {
   "cell_type": "markdown",
   "metadata": {},
   "source": [
    "---\n",
    "> P-033: レシート明細データ（df_receipt）に対し、店舗コード（store_cd）ごとに売上金額（amount）の平均を計算し、330以上のものを抽出せよ。"
   ]
  },
  {
   "cell_type": "code",
   "execution_count": 73,
   "metadata": {},
   "outputs": [
    {
     "name": "stdout",
     "output_type": "stream",
     "text": [
      "   store_cd      amount\n",
      "1    S12013  330.194130\n",
      "5    S13001  348.470386\n",
      "7    S13003  350.915519\n",
      "8    S13004  330.943949\n",
      "12   S13015  351.111960\n",
      "16   S13019  330.208616\n",
      "17   S13020  337.879932\n",
      "28   S13052  402.867470\n",
      "30   S14010  348.791262\n",
      "31   S14011  335.718333\n",
      "38   S14026  332.340588\n",
      "46   S14045  330.082073\n",
      "48   S14047  330.077073\n"
     ]
    }
   ],
   "source": [
    "avg = df_receipt.groupby('store_cd')['amount'].mean().reset_index()\n",
    "avg_330 = avg[avg['amount'] >= 330]\n",
    "\n",
    "print(avg_330)"
   ]
  },
  {
   "cell_type": "markdown",
   "metadata": {},
   "source": [
    "---\n",
    "> P-034: レシート明細データ（df_receipt）に対し、顧客ID（customer_id）ごとに売上金額（amount）を合計して全顧客の平均を求めよ。ただし、顧客IDが\"Z\"から始まるものは非会員を表すため、除外して計算すること。"
   ]
  },
  {
   "cell_type": "code",
   "execution_count": 74,
   "metadata": {},
   "outputs": [
    {
     "name": "stdout",
     "output_type": "stream",
     "text": [
      "2547.742234529256\n"
     ]
    }
   ],
   "source": [
    "sales = df_receipt[~df_receipt['customer_id'].str.startswith('Z')].groupby('customer_id')['amount'].sum()\n",
    "avg = sales.mean()\n",
    "\n",
    "print(avg)"
   ]
  },
  {
   "cell_type": "markdown",
   "metadata": {},
   "source": [
    "---\n",
    "> P-035: レシート明細データ（df_receipt）に対し、顧客ID（customer_id）ごとに売上金額（amount）を合計して全顧客の平均を求め、平均以上に買い物をしている顧客を抽出し、10件表示せよ。ただし、顧客IDが\"Z\"から始まるものは非会員を表すため、除外して計算すること。"
   ]
  },
  {
   "cell_type": "code",
   "execution_count": 75,
   "metadata": {},
   "outputs": [
    {
     "name": "stdout",
     "output_type": "stream",
     "text": [
      "customer_id\n",
      "CS001115000010    3044\n",
      "CS001205000006    3337\n",
      "CS001214000009    4685\n",
      "CS001214000017    4132\n",
      "CS001214000052    5639\n",
      "CS001215000040    3496\n",
      "CS001304000006    3726\n",
      "CS001305000005    3485\n",
      "CS001305000011    4370\n",
      "CS001315000180    3300\n",
      "Name: amount, dtype: int64\n"
     ]
    }
   ],
   "source": [
    "sales = df_receipt[~df_receipt['customer_id'].str.startswith('Z')].groupby('customer_id')['amount'].sum()\n",
    "avg = sales.mean()\n",
    "top=sales[sales >= avg].head(10)\n",
    "print(top)"
   ]
  },
  {
   "cell_type": "markdown",
   "metadata": {},
   "source": [
    "---\n",
    "> P-036: レシート明細データ（df_receipt）と店舗データ（df_store）を内部結合し、レシート明細データの全項目と店舗データの店舗名（store_name）を10件表示せよ。"
   ]
  },
  {
   "cell_type": "code",
   "execution_count": 78,
   "metadata": {},
   "outputs": [
    {
     "name": "stdout",
     "output_type": "stream",
     "text": [
      "  store_cd store_name\n",
      "0   S14006       葛が谷店\n",
      "1   S14006       葛が谷店\n",
      "2   S14006       葛が谷店\n",
      "3   S14006       葛が谷店\n",
      "4   S14006       葛が谷店\n",
      "5   S14006       葛が谷店\n",
      "6   S14006       葛が谷店\n",
      "7   S14006       葛が谷店\n",
      "8   S14006       葛が谷店\n",
      "9   S14006       葛が谷店\n"
     ]
    }
   ],
   "source": [
    "merged = pd.merge(df_receipt, df_store, on='store_cd', how='inner')\n",
    "result =merged[['store_cd','store_name']].head(10)\n",
    "print(result)"
   ]
  },
  {
   "cell_type": "markdown",
   "metadata": {},
   "source": [
    "---\n",
    "> P-037: 商品データ（df_product）とカテゴリデータ（df_category）を内部結合し、商品データの全項目とカテゴリデータのカテゴリ小区分名（category_small_name）を10件表示せよ。"
   ]
  },
  {
   "cell_type": "code",
   "execution_count": 80,
   "metadata": {},
   "outputs": [
    {
     "data": {
      "text/html": [
       "<div>\n",
       "<style scoped>\n",
       "    .dataframe tbody tr th:only-of-type {\n",
       "        vertical-align: middle;\n",
       "    }\n",
       "\n",
       "    .dataframe tbody tr th {\n",
       "        vertical-align: top;\n",
       "    }\n",
       "\n",
       "    .dataframe thead th {\n",
       "        text-align: right;\n",
       "    }\n",
       "</style>\n",
       "<table border=\"1\" class=\"dataframe\">\n",
       "  <thead>\n",
       "    <tr style=\"text-align: right;\">\n",
       "      <th></th>\n",
       "      <th>product_cd</th>\n",
       "      <th>category_major_cd</th>\n",
       "      <th>category_medium_cd</th>\n",
       "      <th>category_small_cd</th>\n",
       "      <th>unit_price</th>\n",
       "      <th>unit_cost</th>\n",
       "      <th>category_small_name</th>\n",
       "    </tr>\n",
       "  </thead>\n",
       "  <tbody>\n",
       "    <tr>\n",
       "      <th>0</th>\n",
       "      <td>P040101001</td>\n",
       "      <td>04</td>\n",
       "      <td>0401</td>\n",
       "      <td>040101</td>\n",
       "      <td>198.0</td>\n",
       "      <td>149.0</td>\n",
       "      <td>弁当類</td>\n",
       "    </tr>\n",
       "    <tr>\n",
       "      <th>1</th>\n",
       "      <td>P040101002</td>\n",
       "      <td>04</td>\n",
       "      <td>0401</td>\n",
       "      <td>040101</td>\n",
       "      <td>218.0</td>\n",
       "      <td>164.0</td>\n",
       "      <td>弁当類</td>\n",
       "    </tr>\n",
       "    <tr>\n",
       "      <th>2</th>\n",
       "      <td>P040101003</td>\n",
       "      <td>04</td>\n",
       "      <td>0401</td>\n",
       "      <td>040101</td>\n",
       "      <td>230.0</td>\n",
       "      <td>173.0</td>\n",
       "      <td>弁当類</td>\n",
       "    </tr>\n",
       "    <tr>\n",
       "      <th>3</th>\n",
       "      <td>P040101004</td>\n",
       "      <td>04</td>\n",
       "      <td>0401</td>\n",
       "      <td>040101</td>\n",
       "      <td>248.0</td>\n",
       "      <td>186.0</td>\n",
       "      <td>弁当類</td>\n",
       "    </tr>\n",
       "    <tr>\n",
       "      <th>4</th>\n",
       "      <td>P040101005</td>\n",
       "      <td>04</td>\n",
       "      <td>0401</td>\n",
       "      <td>040101</td>\n",
       "      <td>268.0</td>\n",
       "      <td>201.0</td>\n",
       "      <td>弁当類</td>\n",
       "    </tr>\n",
       "    <tr>\n",
       "      <th>5</th>\n",
       "      <td>P040101006</td>\n",
       "      <td>04</td>\n",
       "      <td>0401</td>\n",
       "      <td>040101</td>\n",
       "      <td>298.0</td>\n",
       "      <td>224.0</td>\n",
       "      <td>弁当類</td>\n",
       "    </tr>\n",
       "    <tr>\n",
       "      <th>6</th>\n",
       "      <td>P040101007</td>\n",
       "      <td>04</td>\n",
       "      <td>0401</td>\n",
       "      <td>040101</td>\n",
       "      <td>338.0</td>\n",
       "      <td>254.0</td>\n",
       "      <td>弁当類</td>\n",
       "    </tr>\n",
       "    <tr>\n",
       "      <th>7</th>\n",
       "      <td>P040101008</td>\n",
       "      <td>04</td>\n",
       "      <td>0401</td>\n",
       "      <td>040101</td>\n",
       "      <td>420.0</td>\n",
       "      <td>315.0</td>\n",
       "      <td>弁当類</td>\n",
       "    </tr>\n",
       "    <tr>\n",
       "      <th>8</th>\n",
       "      <td>P040101009</td>\n",
       "      <td>04</td>\n",
       "      <td>0401</td>\n",
       "      <td>040101</td>\n",
       "      <td>498.0</td>\n",
       "      <td>374.0</td>\n",
       "      <td>弁当類</td>\n",
       "    </tr>\n",
       "    <tr>\n",
       "      <th>9</th>\n",
       "      <td>P040101010</td>\n",
       "      <td>04</td>\n",
       "      <td>0401</td>\n",
       "      <td>040101</td>\n",
       "      <td>580.0</td>\n",
       "      <td>435.0</td>\n",
       "      <td>弁当類</td>\n",
       "    </tr>\n",
       "  </tbody>\n",
       "</table>\n",
       "</div>"
      ],
      "text/plain": [
       "   product_cd category_major_cd category_medium_cd category_small_cd  \\\n",
       "0  P040101001                04               0401            040101   \n",
       "1  P040101002                04               0401            040101   \n",
       "2  P040101003                04               0401            040101   \n",
       "3  P040101004                04               0401            040101   \n",
       "4  P040101005                04               0401            040101   \n",
       "5  P040101006                04               0401            040101   \n",
       "6  P040101007                04               0401            040101   \n",
       "7  P040101008                04               0401            040101   \n",
       "8  P040101009                04               0401            040101   \n",
       "9  P040101010                04               0401            040101   \n",
       "\n",
       "   unit_price  unit_cost category_small_name  \n",
       "0       198.0      149.0                 弁当類  \n",
       "1       218.0      164.0                 弁当類  \n",
       "2       230.0      173.0                 弁当類  \n",
       "3       248.0      186.0                 弁当類  \n",
       "4       268.0      201.0                 弁当類  \n",
       "5       298.0      224.0                 弁当類  \n",
       "6       338.0      254.0                 弁当類  \n",
       "7       420.0      315.0                 弁当類  \n",
       "8       498.0      374.0                 弁当類  \n",
       "9       580.0      435.0                 弁当類  "
      ]
     },
     "execution_count": 80,
     "metadata": {},
     "output_type": "execute_result"
    }
   ],
   "source": [
    "pd.merge(df_product\n",
    "         , df_category[['category_small_cd','category_small_name']]\n",
    "         , how='inner', on='category_small_cd').head(10)\n",
    "#ansを参考にしました"
   ]
  },
  {
   "cell_type": "markdown",
   "metadata": {},
   "source": [
    "---\n",
    "> P-038: 顧客データ（df_customer）とレシート明細データ（df_receipt）から、顧客ごとの売上金額合計を求め、10件表示せよ。ただし、売上実績がない顧客については売上金額を0として表示させること。また、顧客は性別コード（gender_cd）が女性（1）であるものを対象とし、非会員（顧客IDが\"Z\"から始まるもの）は除外すること。"
   ]
  },
  {
   "cell_type": "code",
   "execution_count": 82,
   "metadata": {},
   "outputs": [
    {
     "name": "stdout",
     "output_type": "stream",
     "text": [
      "      customer_id customer_name  amount\n",
      "0  CS021313000114        大野 あや子     0.0\n",
      "1  CS031415000172       宇多田 貴美子  5088.0\n",
      "2  CS028811000001        堀井 かおり     0.0\n",
      "3  CS001215000145         田崎 美紀   875.0\n",
      "4  CS015414000103         奥野 陽子  3122.0\n",
      "5  CS033513000180          安斎 遥   868.0\n",
      "6  CS035614000014        板倉 菜々美     0.0\n",
      "7  CS011215000048         芦田 沙耶  3444.0\n",
      "8  CS009413000079         市川 コウ     0.0\n",
      "9  CS040412000191         川井 郁恵   210.0\n"
     ]
    }
   ],
   "source": [
    "woman = df_customer[(df_customer['gender_cd'] == '1') & (~df_customer['customer_id'].str.startswith('Z'))]\n",
    "customer = df_receipt.groupby('customer_id')['amount'].sum().reset_index()\n",
    "merged = pd.merge(woman, customer, on='customer_id', how='left')\n",
    "merged['amount'] = merged['amount'].fillna(0)\n",
    "result = merged[['customer_id', 'customer_name', 'amount']].head(10)\n",
    "print(result)\n"
   ]
  },
  {
   "cell_type": "markdown",
   "metadata": {},
   "source": [
    "---\n",
    "> P-039: レシート明細データ（df_receipt）から、売上日数の多い顧客の上位20件を抽出したデータと、売上金額合計の多い顧客の上位20件を抽出したデータをそれぞれ作成し、さらにその2つを完全外部結合せよ。ただし、非会員（顧客IDが\"Z\"から始まるもの）は除外すること。"
   ]
  },
  {
   "cell_type": "code",
   "execution_count": 86,
   "metadata": {},
   "outputs": [
    {
     "name": "stdout",
     "output_type": "stream",
     "text": [
      "       customer_id  sales_ymd   amount\n",
      "0   CS040214000008       23.0      NaN\n",
      "1   CS015415000185       22.0  20153.0\n",
      "2   CS010214000010       22.0  18585.0\n",
      "3   CS010214000002       21.0      NaN\n",
      "4   CS028415000007       21.0  19127.0\n",
      "5   CS017415000097       20.0  23086.0\n",
      "6   CS016415000141       20.0  18372.0\n",
      "7   CS031414000051       19.0  19202.0\n",
      "8   CS014214000023       19.0      NaN\n",
      "9   CS022515000226       19.0      NaN\n",
      "10  CS021515000172       19.0      NaN\n",
      "11  CS039414000052       19.0      NaN\n",
      "12  CS021514000045       19.0      NaN\n",
      "13  CS022515000028       18.0      NaN\n",
      "14  CS030214000008       18.0      NaN\n",
      "15  CS021515000056       18.0      NaN\n",
      "16  CS014415000077       18.0      NaN\n",
      "17  CS021515000211       18.0      NaN\n",
      "18  CS032415000209       18.0      NaN\n",
      "19  CS031414000073       18.0      NaN\n",
      "20  CS001605000009        NaN  18925.0\n",
      "21  CS006515000023        NaN  18372.0\n",
      "22  CS011414000106        NaN  18338.0\n",
      "23  CS038415000104        NaN  17847.0\n",
      "24  CS035414000024        NaN  17615.0\n",
      "25  CS021515000089        NaN  17580.0\n",
      "26  CS032414000072        NaN  16563.0\n",
      "27  CS016415000101        NaN  16348.0\n",
      "28  CS011415000006        NaN  16094.0\n",
      "29  CS034415000047        NaN  16083.0\n",
      "30  CS007514000094        NaN  15735.0\n",
      "31  CS009414000059        NaN  15492.0\n",
      "32  CS030415000034        NaN  15468.0\n",
      "33  CS015515000034        NaN  15300.0\n"
     ]
    }
   ],
   "source": [
    "days = df_receipt[~df_receipt['customer_id'].str.startswith('Z')].groupby('customer_id')['sales_ymd'].nunique().reset_index()\n",
    "days = days.sort_values(by='sales_ymd', ascending=False).head(20)\n",
    "amount = df_receipt[~df_receipt['customer_id'].str.startswith('Z')].groupby('customer_id')['amount'].sum().reset_index()\n",
    "amount = amount.sort_values(by='amount', ascending=False).head(20)\n",
    "merged = pd.merge(days, amount, on='customer_id', how='outer')\n",
    "\n",
    "print(merged)\n"
   ]
  },
  {
   "cell_type": "markdown",
   "metadata": {},
   "source": [
    "---\n",
    "> P-040: 全ての店舗と全ての商品を組み合わせたデータを作成したい。店舗データ（df_store）と商品データ（df_product）を直積し、件数を計算せよ。"
   ]
  },
  {
   "cell_type": "code",
   "execution_count": 87,
   "metadata": {},
   "outputs": [
    {
     "name": "stdout",
     "output_type": "stream",
     "text": [
      "531590\n"
     ]
    }
   ],
   "source": [
    "import itertools\n",
    "product = list(itertools.product(df_store['store_cd'], df_product['product_cd']))\n",
    "combinations = len(product)\n",
    "\n",
    "print(combinations)"
   ]
  },
  {
   "cell_type": "markdown",
   "metadata": {},
   "source": [
    "---\n",
    "> P-041: レシート明細データ（df_receipt）の売上金額（amount）を日付（sales_ymd）ごとに集計し、前回売上があった日からの売上金額増減を計算せよ。そして結果を10件表示せよ。"
   ]
  },
  {
   "cell_type": "code",
   "execution_count": 5,
   "metadata": {},
   "outputs": [
    {
     "name": "stdout",
     "output_type": "stream",
     "text": [
      "   sales_ymd  amount  prev_amount  change\n",
      "0   20170101   33723          NaN     NaN\n",
      "1   20170102   24165      33723.0 -9558.0\n",
      "2   20170103   27503      24165.0  3338.0\n",
      "3   20170104   36165      27503.0  8662.0\n",
      "4   20170105   37830      36165.0  1665.0\n",
      "5   20170106   32387      37830.0 -5443.0\n",
      "6   20170107   23415      32387.0 -8972.0\n",
      "7   20170108   24737      23415.0  1322.0\n",
      "8   20170109   26718      24737.0  1981.0\n",
      "9   20170110   20143      26718.0 -6575.0\n"
     ]
    }
   ],
   "source": [
    "\n",
    "day_sales = df_receipt.groupby('sales_ymd')['amount'].sum().reset_index()\n",
    "day_sales['prev_amount'] = day_sales['amount'].shift(1)\n",
    "day_sales['change'] = day_sales['amount'] - day_sales['prev_amount']\n",
    "\n",
    "# 結果を10件表示（ここではサンプルデータが少ないので全件表示）\n",
    "print(day_sales.head(10))"
   ]
  },
  {
   "cell_type": "markdown",
   "metadata": {},
   "source": [
    "---\n",
    "> P-042: レシート明細データ（df_receipt）の売上金額（amount）を日付（sales_ymd）ごとに集計し、各日付のデータに対し、前回、前々回、3回前に売上があった日のデータを結合せよ。そして結果を10件表示せよ。"
   ]
  },
  {
   "cell_type": "code",
   "execution_count": 7,
   "metadata": {},
   "outputs": [
    {
     "name": "stdout",
     "output_type": "stream",
     "text": [
      "                      sales_ymd  amount   zenkai  zenzenkai  sannkaimae\n",
      "0 1970-01-01 00:00:00.020170101   33723      NaN        NaN         NaN\n",
      "1 1970-01-01 00:00:00.020170102   24165  33723.0        NaN         NaN\n",
      "2 1970-01-01 00:00:00.020170103   27503  24165.0    33723.0         NaN\n",
      "3 1970-01-01 00:00:00.020170104   36165  27503.0    24165.0     33723.0\n",
      "4 1970-01-01 00:00:00.020170105   37830  36165.0    27503.0     24165.0\n",
      "5 1970-01-01 00:00:00.020170106   32387  37830.0    36165.0     27503.0\n",
      "6 1970-01-01 00:00:00.020170107   23415  32387.0    37830.0     36165.0\n",
      "7 1970-01-01 00:00:00.020170108   24737  23415.0    32387.0     37830.0\n",
      "8 1970-01-01 00:00:00.020170109   26718  24737.0    23415.0     32387.0\n",
      "9 1970-01-01 00:00:00.020170110   20143  26718.0    24737.0     23415.0\n"
     ]
    }
   ],
   "source": [
    "\n",
    "day_sales = df_receipt.groupby('sales_ymd')['amount'].sum().reset_index()\n",
    "day_sales['zenkai'] = day_sales['amount'].shift(1)\n",
    "day_sales['zenzenkai'] = day_sales['amount'].shift(2)\n",
    "day_sales['sannkaimae'] = day_sales['amount'].shift(3)\n",
    "print(day_sales.head(10))\n"
   ]
  },
  {
   "cell_type": "markdown",
   "metadata": {},
   "source": [
    "---\n",
    "> P-043： レシート明細データ（df_receipt）と顧客データ（df_customer）を結合し、性別コード（gender_cd）と年代（ageから計算）ごとに売上金額（amount）を合計した売上サマリデータを作成せよ。性別コードは0が男性、1が女性、9が不明を表すものとする。\n",
    ">\n",
    "> ただし、項目構成は年代、女性の売上金額、男性の売上金額、性別不明の売上金額の4項目とすること（縦に年代、横に性別のクロス集計）。また、年代は10歳ごとの階級とすること。"
   ]
  },
  {
   "cell_type": "code",
   "execution_count": 11,
   "metadata": {},
   "outputs": [
    {
     "name": "stdout",
     "output_type": "stream",
     "text": [
      "gender_cd  nenndai       0        1       9\n",
      "0               10    1591   149836    4317\n",
      "1               20   72940  1363724   44328\n",
      "2               30  177322   693047   50441\n",
      "3               40   19355  9320791  483512\n",
      "4               50   54320  6685192  342923\n",
      "5               60  272469   987741   71418\n",
      "6               70   13435    29764    2427\n",
      "7               80   46360   262923    5111\n",
      "8               90       0     6260       0\n"
     ]
    }
   ],
   "source": [
    "\n",
    "df_customer['nenndai'] = (df_customer['age'] // 10) * 10\n",
    "df_merged = pd.merge(df_receipt, df_customer, on='customer_id', how='inner')\n",
    "summary = df_merged.groupby(['nenndai', 'gender_cd'])['amount'].sum().unstack(fill_value=0)\n",
    "summary = summary.rename(columns={0: 'male_sales', 1: 'female_sales', 9: 'unknown_sales'}).reset_index()\n",
    "print(summary)\n"
   ]
  },
  {
   "cell_type": "markdown",
   "metadata": {},
   "source": [
    "---\n",
    "> P-044： 043で作成した売上サマリデータ（df_sales_summary）は性別の売上を横持ちさせたものであった。このデータから性別を縦持ちさせ、年代、性別コード、売上金額の3項目に変換せよ。ただし、性別コードは男性を\"00\"、女性を\"01\"、不明を\"99\"とする。"
   ]
  },
  {
   "cell_type": "code",
   "execution_count": 15,
   "metadata": {},
   "outputs": [
    {
     "ename": "KeyError",
     "evalue": "\"The following 'value_vars' are not present in the DataFrame: ['female_sales', 'male_sales', 'unknown_sales']\"",
     "output_type": "error",
     "traceback": [
      "\u001b[0;31m---------------------------------------------------------------------------\u001b[0m",
      "\u001b[0;31mKeyError\u001b[0m                                  Traceback (most recent call last)",
      "Cell \u001b[0;32mIn[15], line 1\u001b[0m\n\u001b[0;32m----> 1\u001b[0m df_melted \u001b[38;5;241m=\u001b[39m \u001b[43msummary\u001b[49m\u001b[38;5;241;43m.\u001b[39;49m\u001b[43mmelt\u001b[49m\u001b[43m(\u001b[49m\u001b[43mid_vars\u001b[49m\u001b[38;5;241;43m=\u001b[39;49m\u001b[38;5;124;43m'\u001b[39;49m\u001b[38;5;124;43mnenndai\u001b[39;49m\u001b[38;5;124;43m'\u001b[39;49m\u001b[43m,\u001b[49m\u001b[43m \u001b[49m\n\u001b[1;32m      2\u001b[0m \u001b[43m                                  \u001b[49m\u001b[43mvalue_vars\u001b[49m\u001b[38;5;241;43m=\u001b[39;49m\u001b[43m[\u001b[49m\u001b[38;5;124;43m'\u001b[39;49m\u001b[38;5;124;43mmale_sales\u001b[39;49m\u001b[38;5;124;43m'\u001b[39;49m\u001b[43m,\u001b[49m\u001b[43m \u001b[49m\u001b[38;5;124;43m'\u001b[39;49m\u001b[38;5;124;43mfemale_sales\u001b[39;49m\u001b[38;5;124;43m'\u001b[39;49m\u001b[43m,\u001b[49m\u001b[43m \u001b[49m\u001b[38;5;124;43m'\u001b[39;49m\u001b[38;5;124;43munknown_sales\u001b[39;49m\u001b[38;5;124;43m'\u001b[39;49m\u001b[43m]\u001b[49m\u001b[43m,\u001b[49m\u001b[43m \u001b[49m\n\u001b[1;32m      3\u001b[0m \u001b[43m                                  \u001b[49m\u001b[43mvar_name\u001b[49m\u001b[38;5;241;43m=\u001b[39;49m\u001b[38;5;124;43m'\u001b[39;49m\u001b[38;5;124;43mgender_cd\u001b[39;49m\u001b[38;5;124;43m'\u001b[39;49m\u001b[43m,\u001b[49m\u001b[43m \u001b[49m\n\u001b[1;32m      4\u001b[0m \u001b[43m                                  \u001b[49m\u001b[43mvalue_name\u001b[49m\u001b[38;5;241;43m=\u001b[39;49m\u001b[38;5;124;43m'\u001b[39;49m\u001b[38;5;124;43mamount\u001b[39;49m\u001b[38;5;124;43m'\u001b[39;49m\u001b[43m)\u001b[49m\n\u001b[1;32m      6\u001b[0m df_melted[\u001b[38;5;124m'\u001b[39m\u001b[38;5;124mgender_cd\u001b[39m\u001b[38;5;124m'\u001b[39m] \u001b[38;5;241m=\u001b[39m df_melted[\u001b[38;5;124m'\u001b[39m\u001b[38;5;124mgender_cd\u001b[39m\u001b[38;5;124m'\u001b[39m]\u001b[38;5;241m.\u001b[39mmap({\n\u001b[1;32m      7\u001b[0m     \u001b[38;5;124m'\u001b[39m\u001b[38;5;124mmale_sales\u001b[39m\u001b[38;5;124m'\u001b[39m: \u001b[38;5;124m'\u001b[39m\u001b[38;5;124m00\u001b[39m\u001b[38;5;124m'\u001b[39m,\n\u001b[1;32m      8\u001b[0m     \u001b[38;5;124m'\u001b[39m\u001b[38;5;124mfemale_sales\u001b[39m\u001b[38;5;124m'\u001b[39m: \u001b[38;5;124m'\u001b[39m\u001b[38;5;124m01\u001b[39m\u001b[38;5;124m'\u001b[39m,\n\u001b[1;32m      9\u001b[0m     \u001b[38;5;124m'\u001b[39m\u001b[38;5;124munknown_sales\u001b[39m\u001b[38;5;124m'\u001b[39m: \u001b[38;5;124m'\u001b[39m\u001b[38;5;124m99\u001b[39m\u001b[38;5;124m'\u001b[39m\n\u001b[1;32m     10\u001b[0m })\n\u001b[1;32m     12\u001b[0m \u001b[38;5;28mprint\u001b[39m(df_melted)\n",
      "File \u001b[0;32m/opt/conda/lib/python3.11/site-packages/pandas/core/frame.py:9127\u001b[0m, in \u001b[0;36mDataFrame.melt\u001b[0;34m(self, id_vars, value_vars, var_name, value_name, col_level, ignore_index)\u001b[0m\n\u001b[1;32m   9116\u001b[0m \u001b[38;5;129m@Appender\u001b[39m(_shared_docs[\u001b[38;5;124m\"\u001b[39m\u001b[38;5;124mmelt\u001b[39m\u001b[38;5;124m\"\u001b[39m] \u001b[38;5;241m%\u001b[39m {\u001b[38;5;124m\"\u001b[39m\u001b[38;5;124mcaller\u001b[39m\u001b[38;5;124m\"\u001b[39m: \u001b[38;5;124m\"\u001b[39m\u001b[38;5;124mdf.melt(\u001b[39m\u001b[38;5;124m\"\u001b[39m, \u001b[38;5;124m\"\u001b[39m\u001b[38;5;124mother\u001b[39m\u001b[38;5;124m\"\u001b[39m: \u001b[38;5;124m\"\u001b[39m\u001b[38;5;124mmelt\u001b[39m\u001b[38;5;124m\"\u001b[39m})\n\u001b[1;32m   9117\u001b[0m \u001b[38;5;28;01mdef\u001b[39;00m \u001b[38;5;21mmelt\u001b[39m(\n\u001b[1;32m   9118\u001b[0m     \u001b[38;5;28mself\u001b[39m,\n\u001b[0;32m   (...)\u001b[0m\n\u001b[1;32m   9124\u001b[0m     ignore_index: \u001b[38;5;28mbool\u001b[39m \u001b[38;5;241m=\u001b[39m \u001b[38;5;28;01mTrue\u001b[39;00m,\n\u001b[1;32m   9125\u001b[0m ) \u001b[38;5;241m-\u001b[39m\u001b[38;5;241m>\u001b[39m DataFrame:\n\u001b[0;32m-> 9127\u001b[0m     \u001b[38;5;28;01mreturn\u001b[39;00m \u001b[43mmelt\u001b[49m\u001b[43m(\u001b[49m\n\u001b[1;32m   9128\u001b[0m \u001b[43m        \u001b[49m\u001b[38;5;28;43mself\u001b[39;49m\u001b[43m,\u001b[49m\n\u001b[1;32m   9129\u001b[0m \u001b[43m        \u001b[49m\u001b[43mid_vars\u001b[49m\u001b[38;5;241;43m=\u001b[39;49m\u001b[43mid_vars\u001b[49m\u001b[43m,\u001b[49m\n\u001b[1;32m   9130\u001b[0m \u001b[43m        \u001b[49m\u001b[43mvalue_vars\u001b[49m\u001b[38;5;241;43m=\u001b[39;49m\u001b[43mvalue_vars\u001b[49m\u001b[43m,\u001b[49m\n\u001b[1;32m   9131\u001b[0m \u001b[43m        \u001b[49m\u001b[43mvar_name\u001b[49m\u001b[38;5;241;43m=\u001b[39;49m\u001b[43mvar_name\u001b[49m\u001b[43m,\u001b[49m\n\u001b[1;32m   9132\u001b[0m \u001b[43m        \u001b[49m\u001b[43mvalue_name\u001b[49m\u001b[38;5;241;43m=\u001b[39;49m\u001b[43mvalue_name\u001b[49m\u001b[43m,\u001b[49m\n\u001b[1;32m   9133\u001b[0m \u001b[43m        \u001b[49m\u001b[43mcol_level\u001b[49m\u001b[38;5;241;43m=\u001b[39;49m\u001b[43mcol_level\u001b[49m\u001b[43m,\u001b[49m\n\u001b[1;32m   9134\u001b[0m \u001b[43m        \u001b[49m\u001b[43mignore_index\u001b[49m\u001b[38;5;241;43m=\u001b[39;49m\u001b[43mignore_index\u001b[49m\u001b[43m,\u001b[49m\n\u001b[1;32m   9135\u001b[0m \u001b[43m    \u001b[49m\u001b[43m)\u001b[49m\u001b[38;5;241m.\u001b[39m__finalize__(\u001b[38;5;28mself\u001b[39m, method\u001b[38;5;241m=\u001b[39m\u001b[38;5;124m\"\u001b[39m\u001b[38;5;124mmelt\u001b[39m\u001b[38;5;124m\"\u001b[39m)\n",
      "File \u001b[0;32m/opt/conda/lib/python3.11/site-packages/pandas/core/reshape/melt.py:96\u001b[0m, in \u001b[0;36mmelt\u001b[0;34m(frame, id_vars, value_vars, var_name, value_name, col_level, ignore_index)\u001b[0m\n\u001b[1;32m     94\u001b[0m     missing \u001b[38;5;241m=\u001b[39m Index(com\u001b[38;5;241m.\u001b[39mflatten(value_vars))\u001b[38;5;241m.\u001b[39mdifference(cols)\n\u001b[1;32m     95\u001b[0m     \u001b[38;5;28;01mif\u001b[39;00m \u001b[38;5;129;01mnot\u001b[39;00m missing\u001b[38;5;241m.\u001b[39mempty:\n\u001b[0;32m---> 96\u001b[0m         \u001b[38;5;28;01mraise\u001b[39;00m \u001b[38;5;167;01mKeyError\u001b[39;00m(\n\u001b[1;32m     97\u001b[0m             \u001b[38;5;124m\"\u001b[39m\u001b[38;5;124mThe following \u001b[39m\u001b[38;5;124m'\u001b[39m\u001b[38;5;124mvalue_vars\u001b[39m\u001b[38;5;124m'\u001b[39m\u001b[38;5;124m are not present in \u001b[39m\u001b[38;5;124m\"\u001b[39m\n\u001b[1;32m     98\u001b[0m             \u001b[38;5;124mf\u001b[39m\u001b[38;5;124m\"\u001b[39m\u001b[38;5;124mthe DataFrame: \u001b[39m\u001b[38;5;132;01m{\u001b[39;00m\u001b[38;5;28mlist\u001b[39m(missing)\u001b[38;5;132;01m}\u001b[39;00m\u001b[38;5;124m\"\u001b[39m\n\u001b[1;32m     99\u001b[0m         )\n\u001b[1;32m    100\u001b[0m \u001b[38;5;28;01mif\u001b[39;00m col_level \u001b[38;5;129;01mis\u001b[39;00m \u001b[38;5;129;01mnot\u001b[39;00m \u001b[38;5;28;01mNone\u001b[39;00m:\n\u001b[1;32m    101\u001b[0m     idx \u001b[38;5;241m=\u001b[39m frame\u001b[38;5;241m.\u001b[39mcolumns\u001b[38;5;241m.\u001b[39mget_level_values(col_level)\u001b[38;5;241m.\u001b[39mget_indexer(\n\u001b[1;32m    102\u001b[0m         id_vars \u001b[38;5;241m+\u001b[39m value_vars\n\u001b[1;32m    103\u001b[0m     )\n",
      "\u001b[0;31mKeyError\u001b[0m: \"The following 'value_vars' are not present in the DataFrame: ['female_sales', 'male_sales', 'unknown_sales']\""
     ]
    }
   ],
   "source": [
    "df_melted = summary.melt(id_vars='nenndai', \n",
    "                                  value_vars=['male_sales', 'female_sales', 'unknown_sales'], \n",
    "                                  var_name='gender_cd', \n",
    "                                  value_name='amount')\n",
    "\n",
    "df_melted['gender_cd'] = df_melted['gender_cd'].map({\n",
    "    'male_sales': '00',\n",
    "    'female_sales': '01',\n",
    "    'unknown_sales': '99'\n",
    "})\n",
    "\n",
    "print(df_melted)"
   ]
  },
  {
   "cell_type": "markdown",
   "metadata": {},
   "source": [
    "---\n",
    "> P-045: 顧客データ（df_customer）の生年月日（birth_day）は日付型でデータを保有している。これをYYYYMMDD形式の文字列に変換し、顧客ID（customer_id）とともに10件表示せよ。"
   ]
  },
  {
   "cell_type": "code",
   "execution_count": 19,
   "metadata": {},
   "outputs": [
    {
     "name": "stdout",
     "output_type": "stream",
     "text": [
      "      customer_id birth_day\n",
      "0  CS021313000114  19810429\n",
      "1  CS037613000071  19520401\n",
      "2  CS031415000172  19761004\n",
      "3  CS028811000001  19330327\n",
      "4  CS001215000145  19950329\n",
      "5  CS020401000016  19740915\n",
      "6  CS015414000103  19770809\n",
      "7  CS029403000008  19730817\n",
      "8  CS015804000004  19310502\n",
      "9  CS033513000180  19620711\n"
     ]
    }
   ],
   "source": [
    "df_customer['birth_day'] = pd.to_datetime(df_customer['birth_day'])\n",
    "df_customer['birth_day'] = df_customer['birth_day'].dt.strftime('%Y%m%d')\n",
    "print(df_customer[['customer_id', 'birth_day']].head(10))"
   ]
  },
  {
   "cell_type": "markdown",
   "metadata": {},
   "source": [
    "---\n",
    "> P-046: 顧客データ（df_customer）の申し込み日（application_date）はYYYYMMDD形式の文字列型でデータを保有している。これを日付型に変換し、顧客ID（customer_id）とともに10件表示せよ。"
   ]
  },
  {
   "cell_type": "code",
   "execution_count": 20,
   "metadata": {},
   "outputs": [
    {
     "name": "stdout",
     "output_type": "stream",
     "text": [
      "      customer_id application_date\n",
      "0  CS021313000114       2015-09-05\n",
      "1  CS037613000071       2015-04-14\n",
      "2  CS031415000172       2015-05-29\n",
      "3  CS028811000001       2016-01-15\n",
      "4  CS001215000145       2017-06-05\n",
      "5  CS020401000016       2015-02-25\n",
      "6  CS015414000103       2015-07-22\n",
      "7  CS029403000008       2015-05-15\n",
      "8  CS015804000004       2015-06-07\n",
      "9  CS033513000180       2015-07-28\n"
     ]
    }
   ],
   "source": [
    "df_customer['application_date'] = pd.to_datetime(df_customer['application_date'], format='%Y%m%d')\n",
    "print(df_customer[['customer_id', 'application_date']].head(10))"
   ]
  },
  {
   "cell_type": "markdown",
   "metadata": {},
   "source": [
    "---\n",
    "> P-047: レシート明細データ（df_receipt）の売上日（sales_ymd）はYYYYMMDD形式の数値型でデータを保有している。これを日付型に変換し、レシート番号（receipt_no）、レシートサブ番号（receipt_sub_no）とともに10件表示せよ。"
   ]
  },
  {
   "cell_type": "code",
   "execution_count": 21,
   "metadata": {},
   "outputs": [
    {
     "name": "stdout",
     "output_type": "stream",
     "text": [
      "   receipt_no  receipt_sub_no                     sales_ymd\n",
      "0         112               1 1970-01-01 00:00:00.020181103\n",
      "1        1132               2 1970-01-01 00:00:00.020181118\n",
      "2        1102               1 1970-01-01 00:00:00.020170712\n",
      "3        1132               1 1970-01-01 00:00:00.020190205\n",
      "4        1102               2 1970-01-01 00:00:00.020180821\n",
      "5        1112               1 1970-01-01 00:00:00.020190605\n",
      "6        1102               2 1970-01-01 00:00:00.020181205\n",
      "7        1102               1 1970-01-01 00:00:00.020190922\n",
      "8        1112               2 1970-01-01 00:00:00.020170504\n",
      "9        1102               1 1970-01-01 00:00:00.020191010\n"
     ]
    }
   ],
   "source": [
    "df_receipt['sales_ymd'] = pd.to_datetime(df_receipt['sales_ymd'], format='%Y%m%d')\n",
    "print(df_receipt[['receipt_no', 'receipt_sub_no', 'sales_ymd']].head(10))"
   ]
  },
  {
   "cell_type": "markdown",
   "metadata": {},
   "source": [
    "---\n",
    "> P-048: レシート明細データ（df_receipt）の売上エポック秒（sales_epoch）は数値型のUNIX秒でデータを保有している。これを日付型に変換し、レシート番号(receipt_no)、レシートサブ番号（receipt_sub_no）とともに10件表示せよ。"
   ]
  },
  {
   "cell_type": "code",
   "execution_count": 22,
   "metadata": {},
   "outputs": [
    {
     "name": "stdout",
     "output_type": "stream",
     "text": [
      "   receipt_no  receipt_sub_no sales_datetime\n",
      "0         112               1     2018-11-03\n",
      "1        1132               2     2018-11-18\n",
      "2        1102               1     2017-07-12\n",
      "3        1132               1     2019-02-05\n",
      "4        1102               2     2018-08-21\n",
      "5        1112               1     2019-06-05\n",
      "6        1102               2     2018-12-05\n",
      "7        1102               1     2019-09-22\n",
      "8        1112               2     2017-05-04\n",
      "9        1102               1     2019-10-10\n"
     ]
    }
   ],
   "source": [
    "df_receipt['sales_datetime'] = pd.to_datetime(df_receipt['sales_epoch'], unit='s')\n",
    "print(df_receipt[['receipt_no', 'receipt_sub_no', 'sales_datetime']].head(10))"
   ]
  },
  {
   "cell_type": "markdown",
   "metadata": {},
   "source": [
    "---\n",
    "> P-049: レシート明細データ（df_receipt）の売上エポック秒（sales_epoch）を日付型に変換し、「年」だけ取り出してレシート番号(receipt_no)、レシートサブ番号（receipt_sub_no）とともに10件表示せよ。"
   ]
  },
  {
   "cell_type": "code",
   "execution_count": 23,
   "metadata": {},
   "outputs": [
    {
     "name": "stdout",
     "output_type": "stream",
     "text": [
      "   receipt_no  receipt_sub_no  sales_year\n",
      "0         112               1        2018\n",
      "1        1132               2        2018\n",
      "2        1102               1        2017\n",
      "3        1132               1        2019\n",
      "4        1102               2        2018\n",
      "5        1112               1        2019\n",
      "6        1102               2        2018\n",
      "7        1102               1        2019\n",
      "8        1112               2        2017\n",
      "9        1102               1        2019\n"
     ]
    }
   ],
   "source": [
    "df_receipt['sales_datetime'] = pd.to_datetime(df_receipt['sales_epoch'], unit='s')\n",
    "df_receipt['sales_year'] = df_receipt['sales_datetime'].dt.year\n",
    "print(df_receipt[['receipt_no', 'receipt_sub_no', 'sales_year']].head(10))"
   ]
  },
  {
   "cell_type": "markdown",
   "metadata": {},
   "source": [
    "---\n",
    "> P-050: レシート明細データ（df_receipt）の売上エポック秒（sales_epoch）を日付型に変換し、「月」だけ取り出してレシート番号(receipt_no)、レシートサブ番号（receipt_sub_no）とともに10件表示せよ。なお、「月」は0埋め2桁で取り出すこと。"
   ]
  },
  {
   "cell_type": "code",
   "execution_count": 24,
   "metadata": {},
   "outputs": [
    {
     "name": "stdout",
     "output_type": "stream",
     "text": [
      "   receipt_no  receipt_sub_no sales_month\n",
      "0         112               1          11\n",
      "1        1132               2          11\n",
      "2        1102               1          07\n",
      "3        1132               1          02\n",
      "4        1102               2          08\n",
      "5        1112               1          06\n",
      "6        1102               2          12\n",
      "7        1102               1          09\n",
      "8        1112               2          05\n",
      "9        1102               1          10\n"
     ]
    }
   ],
   "source": [
    "df_receipt['sales_datetime'] = pd.to_datetime(df_receipt['sales_epoch'], unit='s')\n",
    "df_receipt['sales_month'] = df_receipt['sales_datetime'].dt.strftime('%m')\n",
    "print(df_receipt[['receipt_no', 'receipt_sub_no', 'sales_month']].head(10))"
   ]
  },
  {
   "cell_type": "markdown",
   "metadata": {},
   "source": [
    "---\n",
    "> P-051: レシート明細データ（df_receipt）の売上エポック秒を日付型に変換し、「日」だけ取り出してレシート番号(receipt_no)、レシートサブ番号（receipt_sub_no）とともに10件表示せよ。なお、「日」は0埋め2桁で取り出すこと。"
   ]
  },
  {
   "cell_type": "code",
   "execution_count": 25,
   "metadata": {},
   "outputs": [
    {
     "name": "stdout",
     "output_type": "stream",
     "text": [
      "   receipt_no  receipt_sub_no sales_day\n",
      "0         112               1        03\n",
      "1        1132               2        18\n",
      "2        1102               1        12\n",
      "3        1132               1        05\n",
      "4        1102               2        21\n",
      "5        1112               1        05\n",
      "6        1102               2        05\n",
      "7        1102               1        22\n",
      "8        1112               2        04\n",
      "9        1102               1        10\n"
     ]
    }
   ],
   "source": [
    "df_receipt['sales_datetime'] = pd.to_datetime(df_receipt['sales_epoch'], unit='s')\n",
    "df_receipt['sales_day'] = df_receipt['sales_datetime'].dt.strftime('%d')\n",
    "print(df_receipt[['receipt_no', 'receipt_sub_no', 'sales_day']].head(10))"
   ]
  },
  {
   "cell_type": "markdown",
   "metadata": {},
   "source": [
    "---\n",
    "> P-052: レシート明細データ（df_receipt）の売上金額（amount）を顧客ID（customer_id）ごとに合計の上、売上金額合計に対して2,000円以下を0、2,000円より大きい金額を1に二値化し、顧客ID、売上金額合計とともに10件表示せよ。ただし、顧客IDが\"Z\"から始まるのものは非会員を表すため、除外して計算すること。"
   ]
  },
  {
   "cell_type": "code",
   "execution_count": 27,
   "metadata": {},
   "outputs": [
    {
     "name": "stdout",
     "output_type": "stream",
     "text": [
      "      customer_id  amount  2000<\n",
      "0  CS001113000004    1298      0\n",
      "1  CS001114000005     626      0\n",
      "2  CS001115000010    3044      1\n",
      "3  CS001205000004    1988      0\n",
      "4  CS001205000006    3337      1\n",
      "5  CS001211000025     456      0\n",
      "6  CS001212000027     448      0\n",
      "7  CS001212000031     296      0\n",
      "8  CS001212000046     228      0\n",
      "9  CS001212000070     456      0\n"
     ]
    }
   ],
   "source": [
    "df_receipt = df_receipt[~df_receipt['customer_id'].str.startswith('Z')]\n",
    "df_customer_sales = df_receipt.groupby('customer_id')['amount'].sum().reset_index()\n",
    "df_customer_sales['2000<'] = (df_customer_sales['amount'] > 2000).astype(int)\n",
    "print(df_customer_sales.head(10))"
   ]
  },
  {
   "cell_type": "markdown",
   "metadata": {},
   "source": [
    "---\n",
    "> P-053: 顧客データ（df_customer）の郵便番号（postal_cd）に対し、東京（先頭3桁が100〜209のもの）を1、それ以外のものを0に二値化せよ。さらにレシート明細データ（df_receipt）と結合し、全期間において売上実績のある顧客数を、作成した二値ごとにカウントせよ。"
   ]
  },
  {
   "cell_type": "code",
   "execution_count": 29,
   "metadata": {},
   "outputs": [
    {
     "name": "stdout",
     "output_type": "stream",
     "text": [
      "is_tokyo\n",
      "0    3906\n",
      "1    4400\n",
      "Name: customer_id, dtype: int64\n"
     ]
    }
   ],
   "source": [
    "df_customer['tokyo'] = df_customer['postal_cd'].str[:3].astype(int).between(100, 209).astype(int)\n",
    "df_merged = pd.merge(df_customer, df_receipt, on='customer_id', how='inner')\n",
    "customer_count_by_tokyo = df_merged.groupby('is_tokyo')['customer_id'].nunique()\n",
    "print(customer_count_by_tokyo)"
   ]
  },
  {
   "cell_type": "markdown",
   "metadata": {},
   "source": [
    "---\n",
    "> P-054: 顧客データ（df_customer）の住所（address）は、埼玉県、千葉県、東京都、神奈川県のいずれかとなっている。都道府県毎にコード値を作成し、顧客ID、住所とともに10件表示せよ。値は埼玉県を11、千葉県を12、東京都を13、神奈川県を14とすること。"
   ]
  },
  {
   "cell_type": "code",
   "execution_count": 31,
   "metadata": {},
   "outputs": [
    {
     "name": "stdout",
     "output_type": "stream",
     "text": [
      "      customer_id                 address  prefecture_code\n",
      "0  CS021313000114    神奈川県伊勢原市粟窪**********               14\n",
      "1  CS037613000071      東京都江東区南砂**********               13\n",
      "2  CS031415000172     東京都渋谷区代々木**********               13\n",
      "3  CS028811000001  神奈川県横浜市泉区和泉町**********               14\n",
      "4  CS001215000145     東京都大田区仲六郷**********               13\n",
      "5  CS020401000016      東京都板橋区若木**********               13\n",
      "6  CS015414000103      東京都江東区北砂**********               13\n",
      "7  CS029403000008      千葉県浦安市海楽**********               12\n",
      "8  CS015804000004      東京都江東区北砂**********               13\n",
      "9  CS033513000180  神奈川県横浜市旭区善部町**********               14\n"
     ]
    }
   ],
   "source": [
    "def get_prefecture_code(address):\n",
    "    if '埼玉県' in address:\n",
    "        return 11\n",
    "    elif '千葉県' in address:\n",
    "        return 12\n",
    "    elif '東京都' in address:\n",
    "        return 13\n",
    "    elif '神奈川県' in address:\n",
    "        return 14\n",
    "    else:\n",
    "        return None \n",
    "df_customer['prefecture_code'] = df_customer['address'].apply(get_prefecture_code)\n",
    "print(df_customer[['customer_id', 'address', 'prefecture_code']].head(10))"
   ]
  },
  {
   "cell_type": "markdown",
   "metadata": {},
   "source": [
    "---\n",
    "> P-055: レシート明細（df_receipt）データの売上金額（amount）を顧客ID（customer_id）ごとに合計し、その合計金額の四分位点を求めよ。その上で、顧客ごとの売上金額合計に対して以下の基準でカテゴリ値を作成し、顧客ID、売上金額合計とともに10件表示せよ。カテゴリ値は順に1〜4とする。\n",
    ">\n",
    "> - 最小値以上第1四分位未満 ・・・ 1を付与\n",
    "> - 第1四分位以上第2四分位未満 ・・・ 2を付与\n",
    "> - 第2四分位以上第3四分位未満 ・・・ 3を付与\n",
    "> - 第3四分位以上 ・・・ 4を付与"
   ]
  },
  {
   "cell_type": "code",
   "execution_count": 32,
   "metadata": {},
   "outputs": [
    {
     "name": "stdout",
     "output_type": "stream",
     "text": [
      "customer_id\n",
      "CS001113000004    1298\n",
      "CS001114000005     626\n",
      "CS001115000010    3044\n",
      "CS001205000004    1988\n",
      "CS001205000006    3337\n",
      "CS001211000025     456\n",
      "CS001212000027     448\n",
      "CS001212000031     296\n",
      "CS001212000046     228\n",
      "CS001212000070     456\n",
      "Name: amount, dtype: object\n"
     ]
    }
   ],
   "source": [
    "df_customer_sales = df_receipt.groupby('customer_id')['amount'].sum()\n",
    "quartiles = np.percentile(df_customer_sales, [25, 50, 75])\n",
    "def categorize_amount(total_amount, quartiles):\n",
    "    if total_amount < quartiles[0]:\n",
    "        return 1\n",
    "    elif total_amount < quartiles[1]:\n",
    "        return 2\n",
    "    elif total_amount < quartiles[2]:\n",
    "        return 3\n",
    "    else:\n",
    "        return 4\n",
    "df_customer_sales['category'] = df_customer_sales.apply(categorize_amount, args=(quartiles,))\n",
    "print(df_customer_sales.head(10))"
   ]
  },
  {
   "cell_type": "markdown",
   "metadata": {},
   "source": [
    "---\n",
    "> P-056: 顧客データ（df_customer）の年齢（age）をもとに10歳刻みで年代を算出し、顧客ID（customer_id）、生年月日（birth_day）とともに10件表示せよ。ただし、60歳以上は全て60歳代とすること。年代を表すカテゴリ名は任意とする。"
   ]
  },
  {
   "cell_type": "code",
   "execution_count": 33,
   "metadata": {},
   "outputs": [
    {
     "name": "stdout",
     "output_type": "stream",
     "text": [
      "      customer_id birth_day generation\n",
      "0  CS021313000114  19810429        30代\n",
      "1  CS037613000071  19520401       60歳代\n",
      "2  CS031415000172  19761004        40代\n",
      "3  CS028811000001  19330327       60歳代\n",
      "4  CS001215000145  19950329        20代\n",
      "5  CS020401000016  19740915        40代\n",
      "6  CS015414000103  19770809        40代\n",
      "7  CS029403000008  19730817        40代\n",
      "8  CS015804000004  19310502       60歳代\n",
      "9  CS033513000180  19620711        50代\n"
     ]
    }
   ],
   "source": [
    "def categorize_age(age):\n",
    "    if age >= 60:\n",
    "        return '60歳代'\n",
    "    else:\n",
    "        decade = (age // 10) * 10\n",
    "        return f'{decade}代'\n",
    "df_customer['generation'] = df_customer['age'].apply(categorize_age)\n",
    "print(df_customer[['customer_id', 'birth_day', 'generation']].head(10))"
   ]
  },
  {
   "cell_type": "markdown",
   "metadata": {},
   "source": [
    "---\n",
    "> P-057: 056の抽出結果と性別コード（gender_cd）により、新たに性別×年代の組み合わせを表すカテゴリデータを作成し、10件表示せよ。組み合わせを表すカテゴリの値は任意とする。"
   ]
  },
  {
   "cell_type": "code",
   "execution_count": 34,
   "metadata": {},
   "outputs": [
    {
     "name": "stdout",
     "output_type": "stream",
     "text": [
      "      customer_id birth_day gender_generation\n",
      "0  CS021313000114  19810429            不明_30代\n",
      "1  CS037613000071  19520401           不明_60歳代\n",
      "2  CS031415000172  19761004            不明_40代\n",
      "3  CS028811000001  19330327           不明_60歳代\n",
      "4  CS001215000145  19950329            不明_20代\n",
      "5  CS020401000016  19740915            不明_40代\n",
      "6  CS015414000103  19770809            不明_40代\n",
      "7  CS029403000008  19730817            不明_40代\n",
      "8  CS015804000004  19310502           不明_60歳代\n",
      "9  CS033513000180  19620711            不明_50代\n"
     ]
    }
   ],
   "source": [
    "def categorize_gender_cd(gender_cd):\n",
    "    if gender_cd == 1:\n",
    "        return '男性'\n",
    "    elif gender_cd == 2:\n",
    "        return '女性'\n",
    "    else:\n",
    "        return '不明'\n",
    "df_customer['gender_generation'] = df_customer['gender_cd'].apply(categorize_gender_cd) + '_' + df_customer['generation']\n",
    "print(df_customer[['customer_id', 'birth_day', 'gender_generation']].head(10))"
   ]
  },
  {
   "cell_type": "markdown",
   "metadata": {},
   "source": [
    "---\n",
    "> P-058: 顧客データ（df_customer）の性別コード（gender_cd）をダミー変数化し、顧客ID（customer_id）とともに10件表示せよ。"
   ]
  },
  {
   "cell_type": "code",
   "execution_count": 35,
   "metadata": {},
   "outputs": [
    {
     "name": "stdout",
     "output_type": "stream",
     "text": [
      "      customer_id  gender_cd_0  gender_cd_1  gender_cd_9\n",
      "0  CS021313000114            0            1            0\n",
      "1  CS037613000071            0            0            1\n",
      "2  CS031415000172            0            1            0\n",
      "3  CS028811000001            0            1            0\n",
      "4  CS001215000145            0            1            0\n",
      "5  CS020401000016            1            0            0\n",
      "6  CS015414000103            0            1            0\n",
      "7  CS029403000008            1            0            0\n",
      "8  CS015804000004            1            0            0\n",
      "9  CS033513000180            0            1            0\n"
     ]
    }
   ],
   "source": [
    "df_gender_dummy = pd.get_dummies(df_customer['gender_cd'], prefix='gender_cd')\n",
    "df_result = pd.concat([df_customer['customer_id'], df_gender_dummy], axis=1)\n",
    "print(df_result.head(10))"
   ]
  },
  {
   "cell_type": "markdown",
   "metadata": {},
   "source": [
    "---\n",
    "> P-059: レシート明細データ（df_receipt）の売上金額（amount）を顧客ID（customer_id）ごとに合計し、売上金額合計を平均0、標準偏差1に標準化して顧客ID、売上金額合計とともに10件表示せよ。標準化に使用する標準偏差は、分散の平方根、もしくは不偏分散の平方根のどちらでも良いものとする。ただし、顧客IDが\"Z\"から始まるのものは非会員を表すため、除外して計算すること。"
   ]
  },
  {
   "cell_type": "markdown",
   "metadata": {},
   "source": [
    "TIPS:\n",
    "- query()の引数engineで'python'か'numexpr'かを選択でき、デフォルトはインストールされていればnumexprが、無ければpythonが使われます。さらに、文字列メソッドはengine='python'でないとquery()内で使えません。\n"
   ]
  },
  {
   "cell_type": "code",
   "execution_count": 36,
   "metadata": {},
   "outputs": [
    {
     "name": "stdout",
     "output_type": "stream",
     "text": [
      "      customer_id  amount_standardized\n",
      "0  CS001113000004            -0.459350\n",
      "1  CS001114000005            -0.706348\n",
      "2  CS001115000010             0.182403\n",
      "3  CS001205000004            -0.205737\n",
      "4  CS001205000006             0.290096\n",
      "5  CS001211000025            -0.768832\n",
      "6  CS001212000027            -0.771773\n",
      "7  CS001212000031            -0.827641\n",
      "8  CS001212000046            -0.852635\n",
      "9  CS001212000070            -0.768832\n"
     ]
    }
   ],
   "source": [
    "df_receipt = df_receipt[~df_receipt['customer_id'].str.startswith('Z')]\n",
    "df_sales_total = df_receipt.groupby('customer_id')['amount'].sum().reset_index()\n",
    "sales_total_mean = df_sales_total['amount'].mean()\n",
    "sales_total_std = df_sales_total['amount'].std()\n",
    "df_sales_total['amount_standardized'] = (df_sales_total['amount'] - sales_total_mean) / sales_total_std\n",
    "print(df_sales_total[['customer_id', 'amount_standardized']].head(10))"
   ]
  },
  {
   "cell_type": "markdown",
   "metadata": {},
   "source": [
    "---\n",
    "> P-060: レシート明細データ（df_receipt）の売上金額（amount）を顧客ID（customer_id）ごとに合計し、売上金額合計を最小値0、最大値1に正規化して顧客ID、売上金額合計とともに10件表示せよ。ただし、顧客IDが\"Z\"から始まるのものは非会員を表すため、除外して計算すること。"
   ]
  },
  {
   "cell_type": "code",
   "execution_count": 38,
   "metadata": {},
   "outputs": [
    {
     "name": "stdout",
     "output_type": "stream",
     "text": [
      "      customer_id  amount_normalized\n",
      "0  CS001113000004           0.053354\n",
      "1  CS001114000005           0.024157\n",
      "2  CS001115000010           0.129214\n",
      "3  CS001205000004           0.083333\n",
      "4  CS001205000006           0.141945\n",
      "5  CS001211000025           0.016771\n",
      "6  CS001212000027           0.016423\n",
      "7  CS001212000031           0.009819\n",
      "8  CS001212000046           0.006865\n",
      "9  CS001212000070           0.016771\n"
     ]
    }
   ],
   "source": [
    "df_receipt = df_receipt[~df_receipt['customer_id'].str.startswith('Z')]\n",
    "df_sales_total = df_receipt.groupby('customer_id')['amount'].sum().reset_index()\n",
    "min_amount = df_sales_total['amount'].min()\n",
    "max_amount = df_sales_total['amount'].max()\n",
    "df_sales_total['amount_normalized'] = (df_sales_total['amount'] - min_amount) / (max_amount - min_amount)\n",
    "print(df_sales_total[['customer_id', 'amount_normalized']].head(10))"
   ]
  },
  {
   "cell_type": "markdown",
   "metadata": {},
   "source": [
    "---\n",
    "> P-061: レシート明細データ（df_receipt）の売上金額（amount）を顧客ID（customer_id）ごとに合計し、売上金額合計を常用対数化（底10）して顧客ID、売上金額合計とともに10件表示せよ。ただし、顧客IDが\"Z\"から始まるのものは非会員を表すため、除外して計算すること。"
   ]
  },
  {
   "cell_type": "code",
   "execution_count": null,
   "metadata": {},
   "outputs": [],
   "source": []
  },
  {
   "cell_type": "markdown",
   "metadata": {},
   "source": [
    "---\n",
    "> P-062: レシート明細データ（df_receipt）の売上金額（amount）を顧客ID（customer_id）ごとに合計し、売上金額合計を自然対数化（底e）して顧客ID、売上金額合計とともに10件表示せよ。ただし、顧客IDが\"Z\"から始まるのものは非会員を表すため、除外して計算すること。"
   ]
  },
  {
   "cell_type": "code",
   "execution_count": null,
   "metadata": {},
   "outputs": [],
   "source": []
  },
  {
   "cell_type": "markdown",
   "metadata": {},
   "source": [
    "---\n",
    "> P-063: 商品データ（df_product）の単価（unit_price）と原価（unit_cost）から各商品の利益額を算出し、結果を10件表示せよ。"
   ]
  },
  {
   "cell_type": "code",
   "execution_count": null,
   "metadata": {},
   "outputs": [],
   "source": []
  },
  {
   "cell_type": "markdown",
   "metadata": {},
   "source": [
    "---\n",
    "> P-064: 商品データ（df_product）の単価（unit_price）と原価（unit_cost）から、各商品の利益率の全体平均を算出せよ。ただし、単価と原価には欠損が生じていることに注意せよ。"
   ]
  },
  {
   "cell_type": "code",
   "execution_count": null,
   "metadata": {},
   "outputs": [],
   "source": []
  },
  {
   "cell_type": "markdown",
   "metadata": {},
   "source": [
    "---\n",
    "> P-065: 商品データ（df_product）の各商品について、利益率が30%となる新たな単価を求めよ。ただし、1円未満は切り捨てること。そして結果を10件表示させ、利益率がおよそ30％付近であることを確認せよ。ただし、単価（unit_price）と原価（unit_cost）には欠損が生じていることに注意せよ。"
   ]
  },
  {
   "cell_type": "code",
   "execution_count": null,
   "metadata": {},
   "outputs": [],
   "source": []
  },
  {
   "cell_type": "markdown",
   "metadata": {},
   "source": [
    "---\n",
    "> P-066: 商品データ（df_product）の各商品について、利益率が30%となる新たな単価を求めよ。今回は、1円未満を丸めること（四捨五入または偶数への丸めで良い）。そして結果を10件表示させ、利益率がおよそ30％付近であることを確認せよ。ただし、単価（unit_price）と原価（unit_cost）には欠損が生じていることに注意せよ。"
   ]
  },
  {
   "cell_type": "code",
   "execution_count": null,
   "metadata": {},
   "outputs": [],
   "source": []
  },
  {
   "cell_type": "markdown",
   "metadata": {},
   "source": [
    "---\n",
    "> P-067: 商品データ（df_product）の各商品について、利益率が30%となる新たな単価を求めよ。今回は、1円未満を切り上げること。そして結果を10件表示させ、利益率がおよそ30％付近であることを確認せよ。ただし、単価（unit_price）と原価（unit_cost）には欠損が生じていることに注意せよ。"
   ]
  },
  {
   "cell_type": "code",
   "execution_count": null,
   "metadata": {},
   "outputs": [],
   "source": []
  },
  {
   "cell_type": "markdown",
   "metadata": {},
   "source": [
    "---\n",
    "> P-068: 商品データ（df_product）の各商品について、消費税率10％の税込み金額を求めよ。1円未満の端数は切り捨てとし、結果を10件表示せよ。ただし、単価（unit_price）には欠損が生じていることに注意せよ。"
   ]
  },
  {
   "cell_type": "code",
   "execution_count": null,
   "metadata": {},
   "outputs": [],
   "source": []
  },
  {
   "cell_type": "markdown",
   "metadata": {},
   "source": [
    "---\n",
    "> P-069: レシート明細データ（df_receipt）と商品データ（df_product）を結合し、顧客毎に全商品の売上金額合計と、カテゴリ大区分コード（category_major_cd）が\"07\"（瓶詰缶詰）の売上金額合計を計算の上、両者の比率を求めよ。抽出対象はカテゴリ大区分コード\"07\"（瓶詰缶詰）の売上実績がある顧客のみとし、結果を10件表示せよ。"
   ]
  },
  {
   "cell_type": "code",
   "execution_count": null,
   "metadata": {},
   "outputs": [],
   "source": []
  },
  {
   "cell_type": "markdown",
   "metadata": {},
   "source": [
    "---\n",
    "> P-070: レシート明細データ（df_receipt）の売上日（sales_ymd）に対し、顧客データ（df_customer）の会員申込日（application_date）からの経過日数を計算し、顧客ID（customer_id）、売上日、会員申込日とともに10件表示せよ（sales_ymdは数値、application_dateは文字列でデータを保持している点に注意）。"
   ]
  },
  {
   "cell_type": "code",
   "execution_count": null,
   "metadata": {},
   "outputs": [],
   "source": []
  },
  {
   "cell_type": "markdown",
   "metadata": {},
   "source": [
    "---\n",
    "> P-071: レシート明細データ（df_receipt）の売上日（sales_ymd）に対し、顧客データ（df_customer）の会員申込日（application_date）からの経過月数を計算し、顧客ID（customer_id）、売上日、会員申込日とともに10件表示せよ（sales_ymdは数値、application_dateは文字列でデータを保持している点に注意）。1ヶ月未満は切り捨てること。"
   ]
  },
  {
   "cell_type": "code",
   "execution_count": null,
   "metadata": {},
   "outputs": [],
   "source": []
  },
  {
   "cell_type": "markdown",
   "metadata": {},
   "source": [
    "---\n",
    "> P-072: レシート明細データ（df_receipt）の売上日（df_customer）に対し、顧客データ（df_customer）の会員申込日（application_date）からの経過年数を計算し、顧客ID（customer_id）、売上日、会員申込日とともに10件表示せよ（sales_ymdは数値、application_dateは文字列でデータを保持している点に注意）。1年未満は切り捨てること。"
   ]
  },
  {
   "cell_type": "code",
   "execution_count": null,
   "metadata": {},
   "outputs": [],
   "source": []
  },
  {
   "cell_type": "markdown",
   "metadata": {},
   "source": [
    "---\n",
    "> P-073: レシート明細データ（df_receipt）の売上日（sales_ymd）に対し、顧客データ（df_customer）の会員申込日（application_date）からのエポック秒による経過時間を計算し、顧客ID（customer_id）、売上日、会員申込日とともに10件表示せよ（なお、sales_ymdは数値、application_dateは文字列でデータを保持している点に注意）。なお、時間情報は保有していないため各日付は0時0分0秒を表すものとする。"
   ]
  },
  {
   "cell_type": "code",
   "execution_count": null,
   "metadata": {},
   "outputs": [],
   "source": []
  },
  {
   "cell_type": "markdown",
   "metadata": {},
   "source": [
    "---\n",
    "> P-074: レシート明細データ（df_receipt）の売上日（sales_ymd）に対し、当該週の月曜日からの経過日数を計算し、売上日、直前の月曜日付とともに10件表示せよ（sales_ymdは数値でデータを保持している点に注意）。"
   ]
  },
  {
   "cell_type": "code",
   "execution_count": null,
   "metadata": {},
   "outputs": [],
   "source": []
  },
  {
   "cell_type": "markdown",
   "metadata": {},
   "source": [
    "---\n",
    "> P-075: 顧客データ（df_customer）からランダムに1%のデータを抽出し、先頭から10件表示せよ。"
   ]
  },
  {
   "cell_type": "code",
   "execution_count": null,
   "metadata": {},
   "outputs": [],
   "source": []
  },
  {
   "cell_type": "markdown",
   "metadata": {},
   "source": [
    "---\n",
    "> P-076: 顧客データ（df_customer）から性別コード（gender_cd）の割合に基づきランダムに10%のデータを層化抽出し、性別コードごとに件数を集計せよ。"
   ]
  },
  {
   "cell_type": "code",
   "execution_count": null,
   "metadata": {},
   "outputs": [],
   "source": []
  },
  {
   "cell_type": "markdown",
   "metadata": {},
   "source": [
    "---\n",
    "> P-077: レシート明細データ（df_receipt）の売上金額を顧客単位に合計し、合計した売上金額の外れ値を抽出せよ。なお、外れ値は売上金額合計を対数化したうえで平均と標準偏差を計算し、その平均から3σを超えて離れたものとする（自然対数と常用対数のどちらでも可）。結果は10件表示せよ。"
   ]
  },
  {
   "cell_type": "code",
   "execution_count": null,
   "metadata": {},
   "outputs": [],
   "source": []
  },
  {
   "cell_type": "markdown",
   "metadata": {},
   "source": [
    "---\n",
    "> P-078: レシート明細データ（df_receipt）の売上金額（amount）を顧客単位に合計し、合計した売上金額の外れ値を抽出せよ。ただし、顧客IDが\"Z\"から始まるのものは非会員を表すため、除外して計算すること。なお、ここでは外れ値を第1四分位と第3四分位の差であるIQRを用いて、「第1四分位数-1.5×IQR」を下回るもの、または「第3四分位数+1.5×IQR」を超えるものとする。結果は10件表示せよ。"
   ]
  },
  {
   "cell_type": "code",
   "execution_count": null,
   "metadata": {},
   "outputs": [],
   "source": []
  },
  {
   "cell_type": "markdown",
   "metadata": {},
   "source": [
    "---\n",
    "> P-079: 商品データ（df_product）の各項目に対し、欠損数を確認せよ。"
   ]
  },
  {
   "cell_type": "code",
   "execution_count": null,
   "metadata": {},
   "outputs": [],
   "source": []
  },
  {
   "cell_type": "markdown",
   "metadata": {},
   "source": [
    "---\n",
    "> P-080: 商品データ（df_product）のいずれかの項目に欠損が発生しているレコードを全て削除した新たな商品データを作成せよ。なお、削除前後の件数を表示させ、079で確認した件数だけ減少していることも確認すること。"
   ]
  },
  {
   "cell_type": "code",
   "execution_count": null,
   "metadata": {},
   "outputs": [],
   "source": []
  },
  {
   "cell_type": "markdown",
   "metadata": {},
   "source": [
    "---\n",
    "> P-081: 単価（unit_price）と原価（unit_cost）の欠損値について、それぞれの平均値で補完した新たな商品データを作成せよ。なお、平均値については1円未満を丸めること（四捨五入または偶数への丸めで良い）。補完実施後、各項目について欠損が生じていないことも確認すること。"
   ]
  },
  {
   "cell_type": "code",
   "execution_count": null,
   "metadata": {},
   "outputs": [],
   "source": []
  },
  {
   "cell_type": "markdown",
   "metadata": {
    "tags": []
   },
   "source": [
    "---\n",
    "> P-082: 単価（unit_price）と原価（unit_cost）の欠損値について、それぞれの中央値で補完した新たな商品データを作成せよ。なお、中央値については1円未満を丸めること（四捨五入または偶数への丸めで良い）。補完実施後、各項目について欠損が生じていないことも確認すること。"
   ]
  },
  {
   "cell_type": "code",
   "execution_count": null,
   "metadata": {},
   "outputs": [],
   "source": []
  },
  {
   "cell_type": "markdown",
   "metadata": {},
   "source": [
    "---\n",
    "> P-083: 単価（unit_price）と原価（unit_cost）の欠損値について、各商品のカテゴリ小区分コード（category_small_cd）ごとに算出した中央値で補完した新たな商品データを作成せよ。なお、中央値については1円未満を丸めること（四捨五入または偶数への丸めで良い）。補完実施後、各項目について欠損が生じていないことも確認すること。"
   ]
  },
  {
   "cell_type": "code",
   "execution_count": null,
   "metadata": {},
   "outputs": [],
   "source": []
  },
  {
   "cell_type": "markdown",
   "metadata": {},
   "source": [
    "---\n",
    "> P-084: 顧客データ（df_customer）の全顧客に対して全期間の売上金額に占める2019年売上金額の割合を計算し、新たなデータを作成せよ。ただし、売上実績がない場合は0として扱うこと。そして計算した割合が0超のものを抽出し、結果を10件表示せよ。また、作成したデータに欠損が存在しないことを確認せよ。"
   ]
  },
  {
   "cell_type": "code",
   "execution_count": null,
   "metadata": {},
   "outputs": [],
   "source": []
  },
  {
   "cell_type": "markdown",
   "metadata": {},
   "source": [
    "---\n",
    "> P-085: 顧客データ（df_customer）の全顧客に対し、郵便番号（postal_cd）を用いてジオコードデータ（df_geocode）を紐付け、新たな顧客データを作成せよ。ただし、1つの郵便番号（postal_cd）に複数の経度（longitude）、緯度（latitude）情報が紐づく場合は、経度（longitude）、緯度（latitude）の平均値を算出して使用すること。また、作成結果を確認するために結果を10件表示せよ。"
   ]
  },
  {
   "cell_type": "code",
   "execution_count": null,
   "metadata": {},
   "outputs": [],
   "source": []
  },
  {
   "cell_type": "markdown",
   "metadata": {},
   "source": [
    "---\n",
    "> P-086: 085で作成した緯度経度つき顧客データに対し、会員申込店舗コード（application_store_cd）をキーに店舗データ（df_store）と結合せよ。そして申込み店舗の緯度（latitude）・経度情報（longitude)と顧客住所（address）の緯度・経度を用いて申込み店舗と顧客住所の距離（単位：km）を求め、顧客ID（customer_id）、顧客住所（address）、店舗住所（address）とともに表示せよ。計算式は以下の簡易式で良いものとするが、その他精度の高い方式を利用したライブラリを利用してもかまわない。結果は10件表示せよ。\n",
    "\n",
    "$$\n",
    "\\mbox{緯度（ラジアン）}：\\phi \\\\\n",
    "\\mbox{経度（ラジアン）}：\\lambda \\\\\n",
    "\\mbox{距離}L = 6371 * \\arccos(\\sin \\phi_1 * \\sin \\phi_2\n",
    "+ \\cos \\phi_1 * \\cos \\phi_2 * \\cos(\\lambda_1 − \\lambda_2))\n",
    "$$"
   ]
  },
  {
   "cell_type": "code",
   "execution_count": null,
   "metadata": {},
   "outputs": [],
   "source": []
  },
  {
   "cell_type": "markdown",
   "metadata": {},
   "source": [
    "---\n",
    "> P-087: 顧客データ（df_customer）では、異なる店舗での申込みなどにより同一顧客が複数登録されている。名前（customer_name）と郵便番号（postal_cd）が同じ顧客は同一顧客とみなして1顧客1レコードとなるように名寄せした名寄顧客データを作成し、顧客データの件数、名寄顧客データの件数、重複数を算出せよ。ただし、同一顧客に対しては売上金額合計が最も高いものを残し、売上金額合計が同一もしくは売上実績がない顧客については顧客ID（customer_id）の番号が小さいものを残すこととする。"
   ]
  },
  {
   "cell_type": "code",
   "execution_count": null,
   "metadata": {},
   "outputs": [],
   "source": []
  },
  {
   "cell_type": "markdown",
   "metadata": {},
   "source": [
    "---\n",
    "> P-088: 087で作成したデータを元に、顧客データに統合名寄IDを付与したデータを作成せよ。ただし、統合名寄IDは以下の仕様で付与するものとする。\n",
    ">\n",
    "> - 重複していない顧客：顧客ID（customer_id）を設定\n",
    "> - 重複している顧客：前設問で抽出したレコードの顧客IDを設定\n",
    "> \n",
    "> 顧客IDのユニーク件数と、統合名寄IDのユニーク件数の差も確認すること。"
   ]
  },
  {
   "cell_type": "code",
   "execution_count": null,
   "metadata": {},
   "outputs": [],
   "source": []
  },
  {
   "cell_type": "markdown",
   "metadata": {},
   "source": [
    "---\n",
    "> P-089: 売上実績がある顧客を、予測モデル構築のため学習用データとテスト用データに分割したい。それぞれ8:2の割合でランダムにデータを分割せよ。"
   ]
  },
  {
   "cell_type": "code",
   "execution_count": null,
   "metadata": {},
   "outputs": [],
   "source": []
  },
  {
   "cell_type": "markdown",
   "metadata": {},
   "source": [
    "---\n",
    "> P-090: レシート明細データ（df_receipt）は2017年1月1日〜2019年10月31日までのデータを有している。売上金額（amount）を月次で集計し、学習用に12ヶ月、テスト用に6ヶ月の時系列モデル構築用データを3セット作成せよ。"
   ]
  },
  {
   "cell_type": "code",
   "execution_count": null,
   "metadata": {},
   "outputs": [],
   "source": []
  },
  {
   "cell_type": "markdown",
   "metadata": {},
   "source": [
    "---\n",
    "> P-091: 顧客データ（df_customer）の各顧客に対し、売上実績がある顧客数と売上実績がない顧客数が1:1となるようにアンダーサンプリングで抽出せよ。"
   ]
  },
  {
   "cell_type": "code",
   "execution_count": null,
   "metadata": {},
   "outputs": [],
   "source": []
  },
  {
   "cell_type": "markdown",
   "metadata": {},
   "source": [
    "---\n",
    "> P-092: 顧客データ（df_customer）の性別について、第三正規形へと正規化せよ。"
   ]
  },
  {
   "cell_type": "code",
   "execution_count": null,
   "metadata": {},
   "outputs": [],
   "source": []
  },
  {
   "cell_type": "markdown",
   "metadata": {},
   "source": [
    "---\n",
    "> P-093: 商品データ（df_product）では各カテゴリのコード値だけを保有し、カテゴリ名は保有していない。カテゴリデータ（df_category）と組み合わせて非正規化し、カテゴリ名を保有した新たな商品データを作成せよ。"
   ]
  },
  {
   "cell_type": "code",
   "execution_count": null,
   "metadata": {},
   "outputs": [],
   "source": []
  },
  {
   "cell_type": "markdown",
   "metadata": {},
   "source": [
    "---\n",
    "> P-094: 093で作成したカテゴリ名付き商品データを以下の仕様でファイル出力せよ。\n",
    ">\n",
    "> |ファイル形式|ヘッダ有無|文字エンコーディング|\n",
    "> |:--:|:--:|:--:|\n",
    "> |CSV（カンマ区切り）|有り|UTF-8|\n",
    "> \n",
    "> ファイル出力先のパスは以下のようにすること\n",
    "> \n",
    "> |出力先|\n",
    "> |:--:|\n",
    "> |./data|"
   ]
  },
  {
   "cell_type": "code",
   "execution_count": null,
   "metadata": {},
   "outputs": [],
   "source": []
  },
  {
   "cell_type": "markdown",
   "metadata": {},
   "source": [
    "---\n",
    "> P-095: 093で作成したカテゴリ名付き商品データを以下の仕様でファイル出力せよ。\n",
    ">\n",
    "> |ファイル形式|ヘッダ有無|文字エンコーディング|\n",
    "> |:--:|:--:|:--:|\n",
    "> |CSV（カンマ区切り）|有り|CP932|\n",
    "> \n",
    "> ファイル出力先のパスは以下のようにすること。\n",
    "> \n",
    "> |出力先|\n",
    "> |:--:|\n",
    "> |./data|"
   ]
  },
  {
   "cell_type": "code",
   "execution_count": null,
   "metadata": {},
   "outputs": [],
   "source": []
  },
  {
   "cell_type": "markdown",
   "metadata": {},
   "source": [
    "---\n",
    "> P-096: 093で作成したカテゴリ名付き商品データを以下の仕様でファイル出力せよ。\n",
    ">\n",
    "> |ファイル形式|ヘッダ有無|文字エンコーディング|\n",
    "> |:--:|:--:|:--:|\n",
    "> |CSV（カンマ区切り）|無し|UTF-8|\n",
    "> \n",
    "> ファイル出力先のパスは以下のようにすること。\n",
    "> \n",
    "> |出力先|\n",
    "> |:--:|\n",
    "> |./data|"
   ]
  },
  {
   "cell_type": "code",
   "execution_count": null,
   "metadata": {},
   "outputs": [],
   "source": []
  },
  {
   "cell_type": "markdown",
   "metadata": {},
   "source": [
    "---\n",
    "> P-097: 094で作成した以下形式のファイルを読み込み、データを3件を表示させて正しく取り込まれていることを確認せよ。\n",
    "> \n",
    "> |ファイル形式|ヘッダ有無|文字エンコーディング|\n",
    "> |:--:|:--:|:--:|\n",
    "> |CSV（カンマ区切り）|有り|UTF-8|"
   ]
  },
  {
   "cell_type": "code",
   "execution_count": null,
   "metadata": {},
   "outputs": [],
   "source": []
  },
  {
   "cell_type": "markdown",
   "metadata": {},
   "source": [
    "---\n",
    "> P-098: 096で作成した以下形式のファイルを読み込み、データを3件を表示させて正しく取り込まれていることを確認せよ。\n",
    "> \n",
    "> |ファイル形式|ヘッダ有無|文字エンコーディング|\n",
    "> |:--:|:--:|:--:|\n",
    "> |CSV（カンマ区切り）|ヘッダ無し|UTF-8|"
   ]
  },
  {
   "cell_type": "code",
   "execution_count": null,
   "metadata": {},
   "outputs": [],
   "source": []
  },
  {
   "cell_type": "markdown",
   "metadata": {},
   "source": [
    "---\n",
    "> P-099: 093で作成したカテゴリ名付き商品データを以下の仕様でファイル出力せよ。\n",
    ">\n",
    "> |ファイル形式|ヘッダ有無|文字エンコーディング|\n",
    "> |:--:|:--:|:--:|\n",
    "> |TSV（タブ区切り）|有り|UTF-8|\n",
    "> \n",
    "> ファイル出力先のパスは以下のようにすること\n",
    "> \n",
    "> |出力先|\n",
    "> |:--:|\n",
    "> |./data|"
   ]
  },
  {
   "cell_type": "code",
   "execution_count": null,
   "metadata": {},
   "outputs": [],
   "source": []
  },
  {
   "cell_type": "markdown",
   "metadata": {},
   "source": [
    "---\n",
    "> P-100: 099で作成した以下形式のファイルを読み込み、データを3件を表示させて正しく取り込まれていることを確認せよ。\n",
    "> \n",
    "> |ファイル形式|ヘッダ有無|文字エンコーディング|\n",
    "> |:--:|:--:|:--:|\n",
    "> |TSV（タブ区切り）|有り|UTF-8|"
   ]
  },
  {
   "cell_type": "code",
   "execution_count": null,
   "metadata": {},
   "outputs": [],
   "source": []
  },
  {
   "cell_type": "markdown",
   "metadata": {},
   "source": [
    "# これで１００本終わりです。おつかれさまでした！"
   ]
  }
 ],
 "metadata": {
  "kernelspec": {
   "display_name": "Python 3 (ipykernel)",
   "language": "python",
   "name": "python3"
  },
  "language_info": {
   "codemirror_mode": {
    "name": "ipython",
    "version": 3
   },
   "file_extension": ".py",
   "mimetype": "text/x-python",
   "name": "python",
   "nbconvert_exporter": "python",
   "pygments_lexer": "ipython3",
   "version": "3.11.9"
  }
 },
 "nbformat": 4,
 "nbformat_minor": 4
}
